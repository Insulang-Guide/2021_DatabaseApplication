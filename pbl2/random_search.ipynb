{
 "metadata": {
  "language_info": {
   "codemirror_mode": {
    "name": "ipython",
    "version": 3
   },
   "file_extension": ".py",
   "mimetype": "text/x-python",
   "name": "python",
   "nbconvert_exporter": "python",
   "pygments_lexer": "ipython3",
   "version": "3.8.5"
  },
  "orig_nbformat": 2,
  "kernelspec": {
   "name": "python385jvsc74a57bd05b3ded1ccb95c1d9bd405e7b823d9e85424cde40fbb5985eb47e999ef50e15b4",
   "display_name": "Python 3.8.5 64-bit"
  },
  "metadata": {
   "interpreter": {
    "hash": "5b3ded1ccb95c1d9bd405e7b823d9e85424cde40fbb5985eb47e999ef50e15b4"
   }
  }
 },
 "nbformat": 4,
 "nbformat_minor": 2,
 "cells": [
  {
   "cell_type": "code",
   "execution_count": null,
   "metadata": {},
   "outputs": [],
   "source": [
    "import lightgbm as lgb\n",
    "import matplotlib.pyplot as plt\n",
    "import numpy as np\n",
    "import pandas as pd\n",
    "import xgboost as xgb\n",
    "from scipy import stats\n",
    "from sklearn.ensemble import RandomForestClassifier\n",
    "from sklearn.linear_model import LogisticRegression\n",
    "from sklearn.metrics import classification_report, plot_confusion_matrix, plot_roc_curve\n",
    "from sklearn.model_selection import RandomizedSearchCV\n",
    "from sklearn.neural_network import MLPClassifier\n",
    "from sklearn.svm import SVC"
   ]
  },
  {
   "source": [
    "# Config"
   ],
   "cell_type": "markdown",
   "metadata": {}
  },
  {
   "cell_type": "code",
   "execution_count": null,
   "metadata": {},
   "outputs": [],
   "source": [
    "csv_path = '../csv/preprocessed/7_label_blood_sugar.csv'\n",
    "input_features = ['총콜레스테롤', '트리글리세라이드', 'HDL콜레스테롤', 'LDL콜레스테롤', '혈색소', '(혈청지오티)AST', '(혈청지오티)ALT', '감마지티피', 'BMI']\n",
    "output_features = ['식전혈당(공복혈당)']\n",
    "\n",
    "model = RandomForestClassifier()\n",
    "\n",
    "param_distributions = {\n",
    "    'n_estimators': stats.randint(low=10, high=100),\n",
    "    'max_depth': stats.randint(low=4, high=10),\n",
    "    'min_samples_leaf': stats.randint(low=8, high=18),\n",
    "    'min_samples_split': stats.randint(low=8, high=20)\n",
    "}\n",
    "\n",
    "n_iter = 10"
   ]
  },
  {
   "source": [
    "# Load Data"
   ],
   "cell_type": "markdown",
   "metadata": {}
  },
  {
   "cell_type": "code",
   "execution_count": null,
   "metadata": {},
   "outputs": [],
   "source": [
    "def load_data(csv_path, input_features, output_features):\n",
    "    print('Reading csv file')\n",
    "    df = pd.read_csv(csv_path)\n",
    "\n",
    "    diabetes_df = df[df['식전혈당(공복혈당)'] == 1]\n",
    "    no_diabetes_df = df[df['식전혈당(공복혈당)'] == 0]\n",
    "\n",
    "    testset_size = len(diabetes_df) // 5\n",
    "    \n",
    "    print('Splitting trainset')\n",
    "    # trainset\n",
    "    # 당뇨 데이터에서 trainset 선택하기\n",
    "    trainset_diabetes = diabetes_df.sample(n=4 * testset_size)\n",
    "    diabetes_df = df.iloc[diabetes_df.index.drop(trainset_diabetes.index)]\n",
    "\n",
    "    # 비당뇨 데이터에서 trainset 선택하기\n",
    "    trainset_non_diabetes = no_diabetes_df.sample(n=4 * testset_size)\n",
    "    no_diabetes_df = df.iloc[no_diabetes_df.index.drop(trainset_non_diabetes.index)]\n",
    "\n",
    "    # 당뇨와 비당뇨 데이터를 합쳐 하나의 trainset 만들기\n",
    "    trainset = trainset_diabetes.append(trainset_non_diabetes)\n",
    "    trainset = trainset.sample(frac=1).reset_index(drop=True)\n",
    "\n",
    "    print('Splitting testset')\n",
    "    # testset\n",
    "    # 당뇨 데이터에서 testset 선택하기\n",
    "    testset_diabetes = diabetes_df.sample(n=testset_size)\n",
    "    diabetes_df = df.iloc[diabetes_df.index.drop(testset_diabetes.index)]\n",
    "\n",
    "    # 비당뇨 데이터에서 testset 선택하기\n",
    "    testset_non_diabetes = no_diabetes_df.sample(n=testset_size)\n",
    "    no_diabetes_df = df.iloc[no_diabetes_df.index.drop(testset_non_diabetes.index)]\n",
    "\n",
    "    # 당뇨와 비당뇨 데이터를 합쳐 하나의 testset 만들기\n",
    "    testset = testset_diabetes.append(testset_non_diabetes)\n",
    "    testset = testset.sample(frac=1).reset_index(drop=True)\n",
    "\n",
    "    return trainset[input_features], trainset[output_features], testset[input_features], testset[output_features]"
   ]
  },
  {
   "source": [
    "# Random Search"
   ],
   "cell_type": "markdown",
   "metadata": {}
  },
  {
   "cell_type": "code",
   "execution_count": null,
   "metadata": {},
   "outputs": [],
   "source": [
    "def main(model, param_distributions, n_iter):\n",
    "    random_cv = RandomizedSearchCV(\n",
    "        estimator=model,\n",
    "        param_distributions=param_distributions,\n",
    "        n_iter=n_iter,\n",
    "        scoring = 'f1',\n",
    "        cv=4,\n",
    "        n_jobs = 4,\n",
    "        verbose = 5, \n",
    "        return_train_score = True,\n",
    "        error_score='raise',\n",
    "        random_state=42)\n",
    "\n",
    "    print('Fitting random search')\n",
    "    search = random_cv.fit(trainset_inputs, trainset_outputs)\n",
    "    print(f'Best parameters is {search.best_params_}')\n",
    "\n",
    "    print('== Classification Metrics ==')\n",
    "    print(classification_report(testset_outputs, random_cv.predict(testset_inputs)))\n",
    "\n",
    "    plot_confusion_matrix(estimator=random_cv.best_estimator_,\n",
    "                          X=testset_inputs,\n",
    "                          y_true=testset_outputs)\n",
    "    \n",
    "    plot_roc_curve(estimator=random_cv.best_estimator_,\n",
    "                   X=testset_inputs,\n",
    "                   y=testset_outputs)"
   ]
  },
  {
   "source": [
    "# Execute"
   ],
   "cell_type": "markdown",
   "metadata": {}
  },
  {
   "cell_type": "code",
   "execution_count": null,
   "metadata": {},
   "outputs": [],
   "source": [
    "trainset_inputs, trainset_outputs, testset_inputs, testset_outputs = load_data(csv_path, input_features, output_features)\n"
   ]
  },
  {
   "cell_type": "code",
   "execution_count": null,
   "metadata": {},
   "outputs": [],
   "source": [
    "main(model, param_distributions, n_iter)"
   ]
  },
  {
   "cell_type": "code",
   "execution_count": null,
   "metadata": {},
   "outputs": [],
   "source": []
  }
 ]
}