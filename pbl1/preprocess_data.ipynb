{
 "metadata": {
  "language_info": {
   "codemirror_mode": {
    "name": "ipython",
    "version": 3
   },
   "file_extension": ".py",
   "mimetype": "text/x-python",
   "name": "python",
   "nbconvert_exporter": "python",
   "pygments_lexer": "ipython3",
   "version": "3.8.5-final"
  },
  "orig_nbformat": 2,
  "kernelspec": {
   "name": "python385jvsc74a57bd031f2aee4e71d21fbe5cf8b01ff0e069b9275f58929596ceb00d14d90e3e16cd6",
   "display_name": "Python 3.8.5 64-bit"
  },
  "metadata": {
   "interpreter": {
    "hash": "31f2aee4e71d21fbe5cf8b01ff0e069b9275f58929596ceb00d14d90e3e16cd6"
   }
  }
 },
 "nbformat": 4,
 "nbformat_minor": 2,
 "cells": [
  {
   "cell_type": "code",
   "execution_count": 11,
   "metadata": {},
   "outputs": [],
   "source": [
    "import pandas as pd"
   ]
  },
  {
   "source": [
    "### !!(주의)해당 파일 경로에 csv/raw, csv/preprocessed 디렉토리를 생성한 후, 실행해주세요"
   ],
   "cell_type": "markdown",
   "metadata": {}
  },
  {
   "cell_type": "code",
   "execution_count": 1,
   "metadata": {},
   "outputs": [],
   "source": [
    "raw_path = '../csv/raw'\n",
    "preprocessed_path = '../csv/preprocessed'"
   ]
  },
  {
   "source": [
    "# 0. Read data"
   ],
   "cell_type": "markdown",
   "metadata": {}
  },
  {
   "cell_type": "code",
   "execution_count": 13,
   "metadata": {},
   "outputs": [],
   "source": [
    "df2017 = pd.read_csv(f'{raw_path}/NHIS_OPEN_GJ_2017_100.csv', encoding='CP949')\n",
    "df2018 = pd.read_csv(f'{raw_path}/NHIS_OPEN_GJ_2018_100.csv')"
   ]
  },
  {
   "source": [
    "# 1. Collapse 2017 and 2018 csv data"
   ],
   "cell_type": "markdown",
   "metadata": {}
  },
  {
   "cell_type": "code",
   "execution_count": 14,
   "metadata": {},
   "outputs": [
    {
     "output_type": "execute_result",
     "data": {
      "text/plain": [
       "         기준년도  가입자일련번호  성별코드  연령대코드(5세단위)  시도코드  신장(5Cm단위)  체중(5Kg단위)  허리둘레  \\\n",
       "0        2017        1     1            8    43        170         75  90.0   \n",
       "1        2017        2     1            7    11        180         80  89.0   \n",
       "2        2017        3     1            9    41        165         75  91.0   \n",
       "3        2017        4     1           11    48        175         80  91.0   \n",
       "4        2017        5     1           11    30        165         60  80.0   \n",
       "...       ...      ...   ...          ...   ...        ...        ...   ...   \n",
       "1999995  2018   999996     2           11    41        165         75  84.0   \n",
       "1999996  2018   999997     1            7    41        170         75  88.0   \n",
       "1999997  2018   999998     1            8    41        175         80  87.0   \n",
       "1999998  2018   999999     1           11    41        165         70  80.2   \n",
       "1999999  2018  1000000     1            5    47        165         60  70.0   \n",
       "\n",
       "         시력(좌)  시력(우)  ...  감마지티피  흡연상태  음주여부  구강검진수검여부  치아우식증유무  결손치유무  \\\n",
       "0          1.0    1.0  ...   40.0   1.0   1.0         1      NaN    NaN   \n",
       "1          0.9    1.2  ...   27.0   3.0   0.0         1      NaN    NaN   \n",
       "2          1.2    1.5  ...   68.0   1.0   0.0         0      NaN    NaN   \n",
       "3          1.5    1.2  ...   18.0   1.0   0.0         1      NaN    NaN   \n",
       "4          1.0    1.2  ...   25.0   1.0   0.0         1      NaN    NaN   \n",
       "...        ...    ...  ...    ...   ...   ...       ...      ...    ...   \n",
       "1999995    1.2    1.2  ...   19.0   1.0   NaN         0      NaN    NaN   \n",
       "1999996    2.0    2.0  ...   90.0   1.0   1.0         1      0.0    NaN   \n",
       "1999997    1.2    1.2  ...   36.0   2.0   1.0         0      NaN    NaN   \n",
       "1999998    0.9    1.2  ...   14.0   2.0   NaN         0      NaN    NaN   \n",
       "1999999    1.5    1.2  ...   11.0   1.0   1.0         1      0.0    NaN   \n",
       "\n",
       "         치아마모증유무  제3대구치(사랑니)이상   치석   데이터공개일자  \n",
       "0            NaN           NaN  1.0  20181126  \n",
       "1            NaN           NaN  2.0  20181126  \n",
       "2            NaN           NaN  NaN  20181126  \n",
       "3            NaN           NaN  0.0  20181126  \n",
       "4            NaN           NaN  0.0  20181126  \n",
       "...          ...           ...  ...       ...  \n",
       "1999995      NaN           NaN  NaN  20191219  \n",
       "1999996      NaN           NaN  0.0  20191219  \n",
       "1999997      NaN           NaN  NaN  20191219  \n",
       "1999998      NaN           NaN  NaN  20191219  \n",
       "1999999      NaN           NaN  0.0  20191219  \n",
       "\n",
       "[2000000 rows x 34 columns]"
      ],
      "text/html": "<div>\n<style scoped>\n    .dataframe tbody tr th:only-of-type {\n        vertical-align: middle;\n    }\n\n    .dataframe tbody tr th {\n        vertical-align: top;\n    }\n\n    .dataframe thead th {\n        text-align: right;\n    }\n</style>\n<table border=\"1\" class=\"dataframe\">\n  <thead>\n    <tr style=\"text-align: right;\">\n      <th></th>\n      <th>기준년도</th>\n      <th>가입자일련번호</th>\n      <th>성별코드</th>\n      <th>연령대코드(5세단위)</th>\n      <th>시도코드</th>\n      <th>신장(5Cm단위)</th>\n      <th>체중(5Kg단위)</th>\n      <th>허리둘레</th>\n      <th>시력(좌)</th>\n      <th>시력(우)</th>\n      <th>...</th>\n      <th>감마지티피</th>\n      <th>흡연상태</th>\n      <th>음주여부</th>\n      <th>구강검진수검여부</th>\n      <th>치아우식증유무</th>\n      <th>결손치유무</th>\n      <th>치아마모증유무</th>\n      <th>제3대구치(사랑니)이상</th>\n      <th>치석</th>\n      <th>데이터공개일자</th>\n    </tr>\n  </thead>\n  <tbody>\n    <tr>\n      <th>0</th>\n      <td>2017</td>\n      <td>1</td>\n      <td>1</td>\n      <td>8</td>\n      <td>43</td>\n      <td>170</td>\n      <td>75</td>\n      <td>90.0</td>\n      <td>1.0</td>\n      <td>1.0</td>\n      <td>...</td>\n      <td>40.0</td>\n      <td>1.0</td>\n      <td>1.0</td>\n      <td>1</td>\n      <td>NaN</td>\n      <td>NaN</td>\n      <td>NaN</td>\n      <td>NaN</td>\n      <td>1.0</td>\n      <td>20181126</td>\n    </tr>\n    <tr>\n      <th>1</th>\n      <td>2017</td>\n      <td>2</td>\n      <td>1</td>\n      <td>7</td>\n      <td>11</td>\n      <td>180</td>\n      <td>80</td>\n      <td>89.0</td>\n      <td>0.9</td>\n      <td>1.2</td>\n      <td>...</td>\n      <td>27.0</td>\n      <td>3.0</td>\n      <td>0.0</td>\n      <td>1</td>\n      <td>NaN</td>\n      <td>NaN</td>\n      <td>NaN</td>\n      <td>NaN</td>\n      <td>2.0</td>\n      <td>20181126</td>\n    </tr>\n    <tr>\n      <th>2</th>\n      <td>2017</td>\n      <td>3</td>\n      <td>1</td>\n      <td>9</td>\n      <td>41</td>\n      <td>165</td>\n      <td>75</td>\n      <td>91.0</td>\n      <td>1.2</td>\n      <td>1.5</td>\n      <td>...</td>\n      <td>68.0</td>\n      <td>1.0</td>\n      <td>0.0</td>\n      <td>0</td>\n      <td>NaN</td>\n      <td>NaN</td>\n      <td>NaN</td>\n      <td>NaN</td>\n      <td>NaN</td>\n      <td>20181126</td>\n    </tr>\n    <tr>\n      <th>3</th>\n      <td>2017</td>\n      <td>4</td>\n      <td>1</td>\n      <td>11</td>\n      <td>48</td>\n      <td>175</td>\n      <td>80</td>\n      <td>91.0</td>\n      <td>1.5</td>\n      <td>1.2</td>\n      <td>...</td>\n      <td>18.0</td>\n      <td>1.0</td>\n      <td>0.0</td>\n      <td>1</td>\n      <td>NaN</td>\n      <td>NaN</td>\n      <td>NaN</td>\n      <td>NaN</td>\n      <td>0.0</td>\n      <td>20181126</td>\n    </tr>\n    <tr>\n      <th>4</th>\n      <td>2017</td>\n      <td>5</td>\n      <td>1</td>\n      <td>11</td>\n      <td>30</td>\n      <td>165</td>\n      <td>60</td>\n      <td>80.0</td>\n      <td>1.0</td>\n      <td>1.2</td>\n      <td>...</td>\n      <td>25.0</td>\n      <td>1.0</td>\n      <td>0.0</td>\n      <td>1</td>\n      <td>NaN</td>\n      <td>NaN</td>\n      <td>NaN</td>\n      <td>NaN</td>\n      <td>0.0</td>\n      <td>20181126</td>\n    </tr>\n    <tr>\n      <th>...</th>\n      <td>...</td>\n      <td>...</td>\n      <td>...</td>\n      <td>...</td>\n      <td>...</td>\n      <td>...</td>\n      <td>...</td>\n      <td>...</td>\n      <td>...</td>\n      <td>...</td>\n      <td>...</td>\n      <td>...</td>\n      <td>...</td>\n      <td>...</td>\n      <td>...</td>\n      <td>...</td>\n      <td>...</td>\n      <td>...</td>\n      <td>...</td>\n      <td>...</td>\n      <td>...</td>\n    </tr>\n    <tr>\n      <th>1999995</th>\n      <td>2018</td>\n      <td>999996</td>\n      <td>2</td>\n      <td>11</td>\n      <td>41</td>\n      <td>165</td>\n      <td>75</td>\n      <td>84.0</td>\n      <td>1.2</td>\n      <td>1.2</td>\n      <td>...</td>\n      <td>19.0</td>\n      <td>1.0</td>\n      <td>NaN</td>\n      <td>0</td>\n      <td>NaN</td>\n      <td>NaN</td>\n      <td>NaN</td>\n      <td>NaN</td>\n      <td>NaN</td>\n      <td>20191219</td>\n    </tr>\n    <tr>\n      <th>1999996</th>\n      <td>2018</td>\n      <td>999997</td>\n      <td>1</td>\n      <td>7</td>\n      <td>41</td>\n      <td>170</td>\n      <td>75</td>\n      <td>88.0</td>\n      <td>2.0</td>\n      <td>2.0</td>\n      <td>...</td>\n      <td>90.0</td>\n      <td>1.0</td>\n      <td>1.0</td>\n      <td>1</td>\n      <td>0.0</td>\n      <td>NaN</td>\n      <td>NaN</td>\n      <td>NaN</td>\n      <td>0.0</td>\n      <td>20191219</td>\n    </tr>\n    <tr>\n      <th>1999997</th>\n      <td>2018</td>\n      <td>999998</td>\n      <td>1</td>\n      <td>8</td>\n      <td>41</td>\n      <td>175</td>\n      <td>80</td>\n      <td>87.0</td>\n      <td>1.2</td>\n      <td>1.2</td>\n      <td>...</td>\n      <td>36.0</td>\n      <td>2.0</td>\n      <td>1.0</td>\n      <td>0</td>\n      <td>NaN</td>\n      <td>NaN</td>\n      <td>NaN</td>\n      <td>NaN</td>\n      <td>NaN</td>\n      <td>20191219</td>\n    </tr>\n    <tr>\n      <th>1999998</th>\n      <td>2018</td>\n      <td>999999</td>\n      <td>1</td>\n      <td>11</td>\n      <td>41</td>\n      <td>165</td>\n      <td>70</td>\n      <td>80.2</td>\n      <td>0.9</td>\n      <td>1.2</td>\n      <td>...</td>\n      <td>14.0</td>\n      <td>2.0</td>\n      <td>NaN</td>\n      <td>0</td>\n      <td>NaN</td>\n      <td>NaN</td>\n      <td>NaN</td>\n      <td>NaN</td>\n      <td>NaN</td>\n      <td>20191219</td>\n    </tr>\n    <tr>\n      <th>1999999</th>\n      <td>2018</td>\n      <td>1000000</td>\n      <td>1</td>\n      <td>5</td>\n      <td>47</td>\n      <td>165</td>\n      <td>60</td>\n      <td>70.0</td>\n      <td>1.5</td>\n      <td>1.2</td>\n      <td>...</td>\n      <td>11.0</td>\n      <td>1.0</td>\n      <td>1.0</td>\n      <td>1</td>\n      <td>0.0</td>\n      <td>NaN</td>\n      <td>NaN</td>\n      <td>NaN</td>\n      <td>0.0</td>\n      <td>20191219</td>\n    </tr>\n  </tbody>\n</table>\n<p>2000000 rows × 34 columns</p>\n</div>"
     },
     "metadata": {},
     "execution_count": 14
    }
   ],
   "source": [
    "df = pd.DataFrame()\n",
    "df = df.append(df2017)\n",
    "df = df.append(df2018)\n",
    "\n",
    "df.reset_index(drop=True, inplace=True)\n",
    "df.to_csv(f'{preprocessed_path}/1_collapse_data.csv', index=False)\n",
    "df"
   ]
  },
  {
   "source": [
    "# 2. Drop needless features"
   ],
   "cell_type": "markdown",
   "metadata": {}
  },
  {
   "cell_type": "code",
   "execution_count": 15,
   "metadata": {},
   "outputs": [
    {
     "output_type": "execute_result",
     "data": {
      "text/plain": [
       "         성별코드  연령대코드(5세단위)  시도코드  신장(5Cm단위)  체중(5Kg단위)  허리둘레  시력(좌)  시력(우)  \\\n",
       "0           1            8    43        170         75  90.0    1.0    1.0   \n",
       "1           1            7    11        180         80  89.0    0.9    1.2   \n",
       "2           1            9    41        165         75  91.0    1.2    1.5   \n",
       "3           1           11    48        175         80  91.0    1.5    1.2   \n",
       "4           1           11    30        165         60  80.0    1.0    1.2   \n",
       "...       ...          ...   ...        ...        ...   ...    ...    ...   \n",
       "1999995     2           11    41        165         75  84.0    1.2    1.2   \n",
       "1999996     1            7    41        170         75  88.0    2.0    2.0   \n",
       "1999997     1            8    41        175         80  87.0    1.2    1.2   \n",
       "1999998     1           11    41        165         70  80.2    0.9    1.2   \n",
       "1999999     1            5    47        165         60  70.0    1.5    1.2   \n",
       "\n",
       "         수축기혈압  이완기혈압  ...  HDL콜레스테롤  LDL콜레스테롤   혈색소  요단백  혈청크레아티닌  \\\n",
       "0        120.0   80.0  ...      48.0     126.0  17.1  1.0      1.0   \n",
       "1        130.0   82.0  ...      55.0     148.0  15.8  1.0      0.9   \n",
       "2        120.0   70.0  ...      41.0      74.0  15.8  1.0      0.9   \n",
       "3        145.0   87.0  ...      76.0     104.0  17.6  1.0      1.1   \n",
       "4        138.0   82.0  ...      61.0     117.0  13.8  1.0      0.8   \n",
       "...        ...    ...  ...       ...       ...   ...  ...      ...   \n",
       "1999995  110.0   70.0  ...       NaN       NaN  12.2  1.0      0.7   \n",
       "1999996  136.0   88.0  ...       NaN       NaN  17.0  1.0      1.0   \n",
       "1999997  162.0   90.0  ...       NaN       NaN  16.4  1.0      0.9   \n",
       "1999998  140.0   98.0  ...       NaN       NaN  15.7  1.0      1.2   \n",
       "1999999  120.0   80.0  ...       NaN       NaN  16.8  1.0      1.0   \n",
       "\n",
       "         (혈청지오티)AST  (혈청지오티)ALT  감마지티피  흡연상태  음주여부  \n",
       "0              21.0        35.0   40.0   1.0   1.0  \n",
       "1              20.0        36.0   27.0   3.0   0.0  \n",
       "2              47.0        32.0   68.0   1.0   0.0  \n",
       "3              29.0        34.0   18.0   1.0   0.0  \n",
       "4              19.0        12.0   25.0   1.0   0.0  \n",
       "...             ...         ...    ...   ...   ...  \n",
       "1999995        18.0        15.0   19.0   1.0   NaN  \n",
       "1999996        25.0        36.0   90.0   1.0   1.0  \n",
       "1999997        21.0        15.0   36.0   2.0   1.0  \n",
       "1999998        20.0        18.0   14.0   2.0   NaN  \n",
       "1999999        17.0        12.0   11.0   1.0   1.0  \n",
       "\n",
       "[2000000 rows x 23 columns]"
      ],
      "text/html": "<div>\n<style scoped>\n    .dataframe tbody tr th:only-of-type {\n        vertical-align: middle;\n    }\n\n    .dataframe tbody tr th {\n        vertical-align: top;\n    }\n\n    .dataframe thead th {\n        text-align: right;\n    }\n</style>\n<table border=\"1\" class=\"dataframe\">\n  <thead>\n    <tr style=\"text-align: right;\">\n      <th></th>\n      <th>성별코드</th>\n      <th>연령대코드(5세단위)</th>\n      <th>시도코드</th>\n      <th>신장(5Cm단위)</th>\n      <th>체중(5Kg단위)</th>\n      <th>허리둘레</th>\n      <th>시력(좌)</th>\n      <th>시력(우)</th>\n      <th>수축기혈압</th>\n      <th>이완기혈압</th>\n      <th>...</th>\n      <th>HDL콜레스테롤</th>\n      <th>LDL콜레스테롤</th>\n      <th>혈색소</th>\n      <th>요단백</th>\n      <th>혈청크레아티닌</th>\n      <th>(혈청지오티)AST</th>\n      <th>(혈청지오티)ALT</th>\n      <th>감마지티피</th>\n      <th>흡연상태</th>\n      <th>음주여부</th>\n    </tr>\n  </thead>\n  <tbody>\n    <tr>\n      <th>0</th>\n      <td>1</td>\n      <td>8</td>\n      <td>43</td>\n      <td>170</td>\n      <td>75</td>\n      <td>90.0</td>\n      <td>1.0</td>\n      <td>1.0</td>\n      <td>120.0</td>\n      <td>80.0</td>\n      <td>...</td>\n      <td>48.0</td>\n      <td>126.0</td>\n      <td>17.1</td>\n      <td>1.0</td>\n      <td>1.0</td>\n      <td>21.0</td>\n      <td>35.0</td>\n      <td>40.0</td>\n      <td>1.0</td>\n      <td>1.0</td>\n    </tr>\n    <tr>\n      <th>1</th>\n      <td>1</td>\n      <td>7</td>\n      <td>11</td>\n      <td>180</td>\n      <td>80</td>\n      <td>89.0</td>\n      <td>0.9</td>\n      <td>1.2</td>\n      <td>130.0</td>\n      <td>82.0</td>\n      <td>...</td>\n      <td>55.0</td>\n      <td>148.0</td>\n      <td>15.8</td>\n      <td>1.0</td>\n      <td>0.9</td>\n      <td>20.0</td>\n      <td>36.0</td>\n      <td>27.0</td>\n      <td>3.0</td>\n      <td>0.0</td>\n    </tr>\n    <tr>\n      <th>2</th>\n      <td>1</td>\n      <td>9</td>\n      <td>41</td>\n      <td>165</td>\n      <td>75</td>\n      <td>91.0</td>\n      <td>1.2</td>\n      <td>1.5</td>\n      <td>120.0</td>\n      <td>70.0</td>\n      <td>...</td>\n      <td>41.0</td>\n      <td>74.0</td>\n      <td>15.8</td>\n      <td>1.0</td>\n      <td>0.9</td>\n      <td>47.0</td>\n      <td>32.0</td>\n      <td>68.0</td>\n      <td>1.0</td>\n      <td>0.0</td>\n    </tr>\n    <tr>\n      <th>3</th>\n      <td>1</td>\n      <td>11</td>\n      <td>48</td>\n      <td>175</td>\n      <td>80</td>\n      <td>91.0</td>\n      <td>1.5</td>\n      <td>1.2</td>\n      <td>145.0</td>\n      <td>87.0</td>\n      <td>...</td>\n      <td>76.0</td>\n      <td>104.0</td>\n      <td>17.6</td>\n      <td>1.0</td>\n      <td>1.1</td>\n      <td>29.0</td>\n      <td>34.0</td>\n      <td>18.0</td>\n      <td>1.0</td>\n      <td>0.0</td>\n    </tr>\n    <tr>\n      <th>4</th>\n      <td>1</td>\n      <td>11</td>\n      <td>30</td>\n      <td>165</td>\n      <td>60</td>\n      <td>80.0</td>\n      <td>1.0</td>\n      <td>1.2</td>\n      <td>138.0</td>\n      <td>82.0</td>\n      <td>...</td>\n      <td>61.0</td>\n      <td>117.0</td>\n      <td>13.8</td>\n      <td>1.0</td>\n      <td>0.8</td>\n      <td>19.0</td>\n      <td>12.0</td>\n      <td>25.0</td>\n      <td>1.0</td>\n      <td>0.0</td>\n    </tr>\n    <tr>\n      <th>...</th>\n      <td>...</td>\n      <td>...</td>\n      <td>...</td>\n      <td>...</td>\n      <td>...</td>\n      <td>...</td>\n      <td>...</td>\n      <td>...</td>\n      <td>...</td>\n      <td>...</td>\n      <td>...</td>\n      <td>...</td>\n      <td>...</td>\n      <td>...</td>\n      <td>...</td>\n      <td>...</td>\n      <td>...</td>\n      <td>...</td>\n      <td>...</td>\n      <td>...</td>\n      <td>...</td>\n    </tr>\n    <tr>\n      <th>1999995</th>\n      <td>2</td>\n      <td>11</td>\n      <td>41</td>\n      <td>165</td>\n      <td>75</td>\n      <td>84.0</td>\n      <td>1.2</td>\n      <td>1.2</td>\n      <td>110.0</td>\n      <td>70.0</td>\n      <td>...</td>\n      <td>NaN</td>\n      <td>NaN</td>\n      <td>12.2</td>\n      <td>1.0</td>\n      <td>0.7</td>\n      <td>18.0</td>\n      <td>15.0</td>\n      <td>19.0</td>\n      <td>1.0</td>\n      <td>NaN</td>\n    </tr>\n    <tr>\n      <th>1999996</th>\n      <td>1</td>\n      <td>7</td>\n      <td>41</td>\n      <td>170</td>\n      <td>75</td>\n      <td>88.0</td>\n      <td>2.0</td>\n      <td>2.0</td>\n      <td>136.0</td>\n      <td>88.0</td>\n      <td>...</td>\n      <td>NaN</td>\n      <td>NaN</td>\n      <td>17.0</td>\n      <td>1.0</td>\n      <td>1.0</td>\n      <td>25.0</td>\n      <td>36.0</td>\n      <td>90.0</td>\n      <td>1.0</td>\n      <td>1.0</td>\n    </tr>\n    <tr>\n      <th>1999997</th>\n      <td>1</td>\n      <td>8</td>\n      <td>41</td>\n      <td>175</td>\n      <td>80</td>\n      <td>87.0</td>\n      <td>1.2</td>\n      <td>1.2</td>\n      <td>162.0</td>\n      <td>90.0</td>\n      <td>...</td>\n      <td>NaN</td>\n      <td>NaN</td>\n      <td>16.4</td>\n      <td>1.0</td>\n      <td>0.9</td>\n      <td>21.0</td>\n      <td>15.0</td>\n      <td>36.0</td>\n      <td>2.0</td>\n      <td>1.0</td>\n    </tr>\n    <tr>\n      <th>1999998</th>\n      <td>1</td>\n      <td>11</td>\n      <td>41</td>\n      <td>165</td>\n      <td>70</td>\n      <td>80.2</td>\n      <td>0.9</td>\n      <td>1.2</td>\n      <td>140.0</td>\n      <td>98.0</td>\n      <td>...</td>\n      <td>NaN</td>\n      <td>NaN</td>\n      <td>15.7</td>\n      <td>1.0</td>\n      <td>1.2</td>\n      <td>20.0</td>\n      <td>18.0</td>\n      <td>14.0</td>\n      <td>2.0</td>\n      <td>NaN</td>\n    </tr>\n    <tr>\n      <th>1999999</th>\n      <td>1</td>\n      <td>5</td>\n      <td>47</td>\n      <td>165</td>\n      <td>60</td>\n      <td>70.0</td>\n      <td>1.5</td>\n      <td>1.2</td>\n      <td>120.0</td>\n      <td>80.0</td>\n      <td>...</td>\n      <td>NaN</td>\n      <td>NaN</td>\n      <td>16.8</td>\n      <td>1.0</td>\n      <td>1.0</td>\n      <td>17.0</td>\n      <td>12.0</td>\n      <td>11.0</td>\n      <td>1.0</td>\n      <td>1.0</td>\n    </tr>\n  </tbody>\n</table>\n<p>2000000 rows × 23 columns</p>\n</div>"
     },
     "metadata": {},
     "execution_count": 15
    }
   ],
   "source": [
    "needless_features = ['기준년도', '가입자일련번호', '청력(좌)', '청력(우)', '구강검진수검여부', '치아우식증유무', '결손치유무', '치아마모증유무', '제3대구치(사랑니)이상', '치석', '데이터공개일자']\n",
    "\n",
    "for feature in needless_features:\n",
    "    del df[feature]\n",
    "\n",
    "df.reset_index(drop=True, inplace=True)\n",
    "df.to_csv(f'{preprocessed_path}/2_delete_needless_features.csv', index=False)\n",
    "df"
   ]
  },
  {
   "source": [
    "# 3. Drop nan"
   ],
   "cell_type": "markdown",
   "metadata": {}
  },
  {
   "cell_type": "code",
   "execution_count": 16,
   "metadata": {},
   "outputs": [
    {
     "output_type": "stream",
     "name": "stdout",
     "text": [
      "813084 rows are deleted since they have nan value\n"
     ]
    },
    {
     "output_type": "execute_result",
     "data": {
      "text/plain": [
       "         성별코드  연령대코드(5세단위)  시도코드  신장(5Cm단위)  체중(5Kg단위)  허리둘레  시력(좌)  시력(우)  \\\n",
       "0           1            8    43        170         75  90.0    1.0    1.0   \n",
       "1           1            7    11        180         80  89.0    0.9    1.2   \n",
       "2           1            9    41        165         75  91.0    1.2    1.5   \n",
       "3           1           11    48        175         80  91.0    1.5    1.2   \n",
       "4           1           11    30        165         60  80.0    1.0    1.2   \n",
       "...       ...          ...   ...        ...        ...   ...    ...    ...   \n",
       "1186911     2            9    11        170         55  72.0    0.9    0.8   \n",
       "1186912     1           13    43        165         65  84.0    0.9    1.2   \n",
       "1186913     1            8    31        180         65  77.0    1.2    1.2   \n",
       "1186914     1           13    11        155         60  87.0    1.0    1.0   \n",
       "1186915     1           13    45        160         70  88.5    1.2    1.0   \n",
       "\n",
       "         수축기혈압  이완기혈압  ...  HDL콜레스테롤  LDL콜레스테롤   혈색소  요단백  혈청크레아티닌  \\\n",
       "0        120.0   80.0  ...      48.0     126.0  17.1  1.0      1.0   \n",
       "1        130.0   82.0  ...      55.0     148.0  15.8  1.0      0.9   \n",
       "2        120.0   70.0  ...      41.0      74.0  15.8  1.0      0.9   \n",
       "3        145.0   87.0  ...      76.0     104.0  17.6  1.0      1.1   \n",
       "4        138.0   82.0  ...      61.0     117.0  13.8  1.0      0.8   \n",
       "...        ...    ...  ...       ...       ...   ...  ...      ...   \n",
       "1186911  112.0   73.0  ...      93.0     155.0  13.2  1.0      0.9   \n",
       "1186912  160.0   90.0  ...      62.0     140.0  15.2  1.0      1.0   \n",
       "1186913  123.0   89.0  ...      70.0      60.0  15.9  1.0      1.0   \n",
       "1186914  129.0   70.0  ...      45.0     181.0  16.4  1.0      1.3   \n",
       "1186915  134.0   96.0  ...      42.0      63.0  16.1  1.0      1.1   \n",
       "\n",
       "         (혈청지오티)AST  (혈청지오티)ALT  감마지티피  흡연상태  음주여부  \n",
       "0              21.0        35.0   40.0   1.0   1.0  \n",
       "1              20.0        36.0   27.0   3.0   0.0  \n",
       "2              47.0        32.0   68.0   1.0   0.0  \n",
       "3              29.0        34.0   18.0   1.0   0.0  \n",
       "4              19.0        12.0   25.0   1.0   0.0  \n",
       "...             ...         ...    ...   ...   ...  \n",
       "1186911        14.0        11.0   26.0   3.0   1.0  \n",
       "1186912        34.0        12.0   78.0   1.0   1.0  \n",
       "1186913        11.0         8.0   15.0   3.0   1.0  \n",
       "1186914        65.0       127.0   64.0   3.0   1.0  \n",
       "1186915        30.0        23.0   53.0   2.0   1.0  \n",
       "\n",
       "[1186916 rows x 23 columns]"
      ],
      "text/html": "<div>\n<style scoped>\n    .dataframe tbody tr th:only-of-type {\n        vertical-align: middle;\n    }\n\n    .dataframe tbody tr th {\n        vertical-align: top;\n    }\n\n    .dataframe thead th {\n        text-align: right;\n    }\n</style>\n<table border=\"1\" class=\"dataframe\">\n  <thead>\n    <tr style=\"text-align: right;\">\n      <th></th>\n      <th>성별코드</th>\n      <th>연령대코드(5세단위)</th>\n      <th>시도코드</th>\n      <th>신장(5Cm단위)</th>\n      <th>체중(5Kg단위)</th>\n      <th>허리둘레</th>\n      <th>시력(좌)</th>\n      <th>시력(우)</th>\n      <th>수축기혈압</th>\n      <th>이완기혈압</th>\n      <th>...</th>\n      <th>HDL콜레스테롤</th>\n      <th>LDL콜레스테롤</th>\n      <th>혈색소</th>\n      <th>요단백</th>\n      <th>혈청크레아티닌</th>\n      <th>(혈청지오티)AST</th>\n      <th>(혈청지오티)ALT</th>\n      <th>감마지티피</th>\n      <th>흡연상태</th>\n      <th>음주여부</th>\n    </tr>\n  </thead>\n  <tbody>\n    <tr>\n      <th>0</th>\n      <td>1</td>\n      <td>8</td>\n      <td>43</td>\n      <td>170</td>\n      <td>75</td>\n      <td>90.0</td>\n      <td>1.0</td>\n      <td>1.0</td>\n      <td>120.0</td>\n      <td>80.0</td>\n      <td>...</td>\n      <td>48.0</td>\n      <td>126.0</td>\n      <td>17.1</td>\n      <td>1.0</td>\n      <td>1.0</td>\n      <td>21.0</td>\n      <td>35.0</td>\n      <td>40.0</td>\n      <td>1.0</td>\n      <td>1.0</td>\n    </tr>\n    <tr>\n      <th>1</th>\n      <td>1</td>\n      <td>7</td>\n      <td>11</td>\n      <td>180</td>\n      <td>80</td>\n      <td>89.0</td>\n      <td>0.9</td>\n      <td>1.2</td>\n      <td>130.0</td>\n      <td>82.0</td>\n      <td>...</td>\n      <td>55.0</td>\n      <td>148.0</td>\n      <td>15.8</td>\n      <td>1.0</td>\n      <td>0.9</td>\n      <td>20.0</td>\n      <td>36.0</td>\n      <td>27.0</td>\n      <td>3.0</td>\n      <td>0.0</td>\n    </tr>\n    <tr>\n      <th>2</th>\n      <td>1</td>\n      <td>9</td>\n      <td>41</td>\n      <td>165</td>\n      <td>75</td>\n      <td>91.0</td>\n      <td>1.2</td>\n      <td>1.5</td>\n      <td>120.0</td>\n      <td>70.0</td>\n      <td>...</td>\n      <td>41.0</td>\n      <td>74.0</td>\n      <td>15.8</td>\n      <td>1.0</td>\n      <td>0.9</td>\n      <td>47.0</td>\n      <td>32.0</td>\n      <td>68.0</td>\n      <td>1.0</td>\n      <td>0.0</td>\n    </tr>\n    <tr>\n      <th>3</th>\n      <td>1</td>\n      <td>11</td>\n      <td>48</td>\n      <td>175</td>\n      <td>80</td>\n      <td>91.0</td>\n      <td>1.5</td>\n      <td>1.2</td>\n      <td>145.0</td>\n      <td>87.0</td>\n      <td>...</td>\n      <td>76.0</td>\n      <td>104.0</td>\n      <td>17.6</td>\n      <td>1.0</td>\n      <td>1.1</td>\n      <td>29.0</td>\n      <td>34.0</td>\n      <td>18.0</td>\n      <td>1.0</td>\n      <td>0.0</td>\n    </tr>\n    <tr>\n      <th>4</th>\n      <td>1</td>\n      <td>11</td>\n      <td>30</td>\n      <td>165</td>\n      <td>60</td>\n      <td>80.0</td>\n      <td>1.0</td>\n      <td>1.2</td>\n      <td>138.0</td>\n      <td>82.0</td>\n      <td>...</td>\n      <td>61.0</td>\n      <td>117.0</td>\n      <td>13.8</td>\n      <td>1.0</td>\n      <td>0.8</td>\n      <td>19.0</td>\n      <td>12.0</td>\n      <td>25.0</td>\n      <td>1.0</td>\n      <td>0.0</td>\n    </tr>\n    <tr>\n      <th>...</th>\n      <td>...</td>\n      <td>...</td>\n      <td>...</td>\n      <td>...</td>\n      <td>...</td>\n      <td>...</td>\n      <td>...</td>\n      <td>...</td>\n      <td>...</td>\n      <td>...</td>\n      <td>...</td>\n      <td>...</td>\n      <td>...</td>\n      <td>...</td>\n      <td>...</td>\n      <td>...</td>\n      <td>...</td>\n      <td>...</td>\n      <td>...</td>\n      <td>...</td>\n      <td>...</td>\n    </tr>\n    <tr>\n      <th>1186911</th>\n      <td>2</td>\n      <td>9</td>\n      <td>11</td>\n      <td>170</td>\n      <td>55</td>\n      <td>72.0</td>\n      <td>0.9</td>\n      <td>0.8</td>\n      <td>112.0</td>\n      <td>73.0</td>\n      <td>...</td>\n      <td>93.0</td>\n      <td>155.0</td>\n      <td>13.2</td>\n      <td>1.0</td>\n      <td>0.9</td>\n      <td>14.0</td>\n      <td>11.0</td>\n      <td>26.0</td>\n      <td>3.0</td>\n      <td>1.0</td>\n    </tr>\n    <tr>\n      <th>1186912</th>\n      <td>1</td>\n      <td>13</td>\n      <td>43</td>\n      <td>165</td>\n      <td>65</td>\n      <td>84.0</td>\n      <td>0.9</td>\n      <td>1.2</td>\n      <td>160.0</td>\n      <td>90.0</td>\n      <td>...</td>\n      <td>62.0</td>\n      <td>140.0</td>\n      <td>15.2</td>\n      <td>1.0</td>\n      <td>1.0</td>\n      <td>34.0</td>\n      <td>12.0</td>\n      <td>78.0</td>\n      <td>1.0</td>\n      <td>1.0</td>\n    </tr>\n    <tr>\n      <th>1186913</th>\n      <td>1</td>\n      <td>8</td>\n      <td>31</td>\n      <td>180</td>\n      <td>65</td>\n      <td>77.0</td>\n      <td>1.2</td>\n      <td>1.2</td>\n      <td>123.0</td>\n      <td>89.0</td>\n      <td>...</td>\n      <td>70.0</td>\n      <td>60.0</td>\n      <td>15.9</td>\n      <td>1.0</td>\n      <td>1.0</td>\n      <td>11.0</td>\n      <td>8.0</td>\n      <td>15.0</td>\n      <td>3.0</td>\n      <td>1.0</td>\n    </tr>\n    <tr>\n      <th>1186914</th>\n      <td>1</td>\n      <td>13</td>\n      <td>11</td>\n      <td>155</td>\n      <td>60</td>\n      <td>87.0</td>\n      <td>1.0</td>\n      <td>1.0</td>\n      <td>129.0</td>\n      <td>70.0</td>\n      <td>...</td>\n      <td>45.0</td>\n      <td>181.0</td>\n      <td>16.4</td>\n      <td>1.0</td>\n      <td>1.3</td>\n      <td>65.0</td>\n      <td>127.0</td>\n      <td>64.0</td>\n      <td>3.0</td>\n      <td>1.0</td>\n    </tr>\n    <tr>\n      <th>1186915</th>\n      <td>1</td>\n      <td>13</td>\n      <td>45</td>\n      <td>160</td>\n      <td>70</td>\n      <td>88.5</td>\n      <td>1.2</td>\n      <td>1.0</td>\n      <td>134.0</td>\n      <td>96.0</td>\n      <td>...</td>\n      <td>42.0</td>\n      <td>63.0</td>\n      <td>16.1</td>\n      <td>1.0</td>\n      <td>1.1</td>\n      <td>30.0</td>\n      <td>23.0</td>\n      <td>53.0</td>\n      <td>2.0</td>\n      <td>1.0</td>\n    </tr>\n  </tbody>\n</table>\n<p>1186916 rows × 23 columns</p>\n</div>"
     },
     "metadata": {},
     "execution_count": 16
    }
   ],
   "source": [
    "before_count = len(df)\n",
    "\n",
    "df.dropna(subset=df.columns, how='any', axis=0, inplace=True)\n",
    "\n",
    "after_count = len(df)\n",
    "\n",
    "df.reset_index(drop=True, inplace=True)\n",
    "df.to_csv(f'{preprocessed_path}/3_drop_nan.csv', index=False)\n",
    "\n",
    "print('%d rows are deleted since they have nan value' %(before_count - after_count))\n",
    "df"
   ]
  },
  {
   "source": [
    "# 4. Drop outliers"
   ],
   "cell_type": "markdown",
   "metadata": {}
  },
  {
   "cell_type": "code",
   "execution_count": 17,
   "metadata": {},
   "outputs": [
    {
     "output_type": "stream",
     "name": "stdout",
     "text": [
      "361 rows are deleted since they have outlier values\n"
     ]
    },
    {
     "output_type": "execute_result",
     "data": {
      "text/plain": [
       "         성별코드  연령대코드(5세단위)  시도코드  신장(5Cm단위)  체중(5Kg단위)  허리둘레  시력(좌)  시력(우)  \\\n",
       "0           1            8    43        170         75  90.0    1.0    1.0   \n",
       "1           1            7    11        180         80  89.0    0.9    1.2   \n",
       "2           1            9    41        165         75  91.0    1.2    1.5   \n",
       "3           1           11    48        175         80  91.0    1.5    1.2   \n",
       "4           1           11    30        165         60  80.0    1.0    1.2   \n",
       "...       ...          ...   ...        ...        ...   ...    ...    ...   \n",
       "1186550     2            9    11        170         55  72.0    0.9    0.8   \n",
       "1186551     1           13    43        165         65  84.0    0.9    1.2   \n",
       "1186552     1            8    31        180         65  77.0    1.2    1.2   \n",
       "1186553     1           13    11        155         60  87.0    1.0    1.0   \n",
       "1186554     1           13    45        160         70  88.5    1.2    1.0   \n",
       "\n",
       "         수축기혈압  이완기혈압  ...  HDL콜레스테롤  LDL콜레스테롤   혈색소  요단백  혈청크레아티닌  \\\n",
       "0        120.0   80.0  ...      48.0     126.0  17.1  1.0      1.0   \n",
       "1        130.0   82.0  ...      55.0     148.0  15.8  1.0      0.9   \n",
       "2        120.0   70.0  ...      41.0      74.0  15.8  1.0      0.9   \n",
       "3        145.0   87.0  ...      76.0     104.0  17.6  1.0      1.1   \n",
       "4        138.0   82.0  ...      61.0     117.0  13.8  1.0      0.8   \n",
       "...        ...    ...  ...       ...       ...   ...  ...      ...   \n",
       "1186550  112.0   73.0  ...      93.0     155.0  13.2  1.0      0.9   \n",
       "1186551  160.0   90.0  ...      62.0     140.0  15.2  1.0      1.0   \n",
       "1186552  123.0   89.0  ...      70.0      60.0  15.9  1.0      1.0   \n",
       "1186553  129.0   70.0  ...      45.0     181.0  16.4  1.0      1.3   \n",
       "1186554  134.0   96.0  ...      42.0      63.0  16.1  1.0      1.1   \n",
       "\n",
       "         (혈청지오티)AST  (혈청지오티)ALT  감마지티피  흡연상태  음주여부  \n",
       "0              21.0        35.0   40.0   1.0   1.0  \n",
       "1              20.0        36.0   27.0   3.0   0.0  \n",
       "2              47.0        32.0   68.0   1.0   0.0  \n",
       "3              29.0        34.0   18.0   1.0   0.0  \n",
       "4              19.0        12.0   25.0   1.0   0.0  \n",
       "...             ...         ...    ...   ...   ...  \n",
       "1186550        14.0        11.0   26.0   3.0   1.0  \n",
       "1186551        34.0        12.0   78.0   1.0   1.0  \n",
       "1186552        11.0         8.0   15.0   3.0   1.0  \n",
       "1186553        65.0       127.0   64.0   3.0   1.0  \n",
       "1186554        30.0        23.0   53.0   2.0   1.0  \n",
       "\n",
       "[1186555 rows x 23 columns]"
      ],
      "text/html": "<div>\n<style scoped>\n    .dataframe tbody tr th:only-of-type {\n        vertical-align: middle;\n    }\n\n    .dataframe tbody tr th {\n        vertical-align: top;\n    }\n\n    .dataframe thead th {\n        text-align: right;\n    }\n</style>\n<table border=\"1\" class=\"dataframe\">\n  <thead>\n    <tr style=\"text-align: right;\">\n      <th></th>\n      <th>성별코드</th>\n      <th>연령대코드(5세단위)</th>\n      <th>시도코드</th>\n      <th>신장(5Cm단위)</th>\n      <th>체중(5Kg단위)</th>\n      <th>허리둘레</th>\n      <th>시력(좌)</th>\n      <th>시력(우)</th>\n      <th>수축기혈압</th>\n      <th>이완기혈압</th>\n      <th>...</th>\n      <th>HDL콜레스테롤</th>\n      <th>LDL콜레스테롤</th>\n      <th>혈색소</th>\n      <th>요단백</th>\n      <th>혈청크레아티닌</th>\n      <th>(혈청지오티)AST</th>\n      <th>(혈청지오티)ALT</th>\n      <th>감마지티피</th>\n      <th>흡연상태</th>\n      <th>음주여부</th>\n    </tr>\n  </thead>\n  <tbody>\n    <tr>\n      <th>0</th>\n      <td>1</td>\n      <td>8</td>\n      <td>43</td>\n      <td>170</td>\n      <td>75</td>\n      <td>90.0</td>\n      <td>1.0</td>\n      <td>1.0</td>\n      <td>120.0</td>\n      <td>80.0</td>\n      <td>...</td>\n      <td>48.0</td>\n      <td>126.0</td>\n      <td>17.1</td>\n      <td>1.0</td>\n      <td>1.0</td>\n      <td>21.0</td>\n      <td>35.0</td>\n      <td>40.0</td>\n      <td>1.0</td>\n      <td>1.0</td>\n    </tr>\n    <tr>\n      <th>1</th>\n      <td>1</td>\n      <td>7</td>\n      <td>11</td>\n      <td>180</td>\n      <td>80</td>\n      <td>89.0</td>\n      <td>0.9</td>\n      <td>1.2</td>\n      <td>130.0</td>\n      <td>82.0</td>\n      <td>...</td>\n      <td>55.0</td>\n      <td>148.0</td>\n      <td>15.8</td>\n      <td>1.0</td>\n      <td>0.9</td>\n      <td>20.0</td>\n      <td>36.0</td>\n      <td>27.0</td>\n      <td>3.0</td>\n      <td>0.0</td>\n    </tr>\n    <tr>\n      <th>2</th>\n      <td>1</td>\n      <td>9</td>\n      <td>41</td>\n      <td>165</td>\n      <td>75</td>\n      <td>91.0</td>\n      <td>1.2</td>\n      <td>1.5</td>\n      <td>120.0</td>\n      <td>70.0</td>\n      <td>...</td>\n      <td>41.0</td>\n      <td>74.0</td>\n      <td>15.8</td>\n      <td>1.0</td>\n      <td>0.9</td>\n      <td>47.0</td>\n      <td>32.0</td>\n      <td>68.0</td>\n      <td>1.0</td>\n      <td>0.0</td>\n    </tr>\n    <tr>\n      <th>3</th>\n      <td>1</td>\n      <td>11</td>\n      <td>48</td>\n      <td>175</td>\n      <td>80</td>\n      <td>91.0</td>\n      <td>1.5</td>\n      <td>1.2</td>\n      <td>145.0</td>\n      <td>87.0</td>\n      <td>...</td>\n      <td>76.0</td>\n      <td>104.0</td>\n      <td>17.6</td>\n      <td>1.0</td>\n      <td>1.1</td>\n      <td>29.0</td>\n      <td>34.0</td>\n      <td>18.0</td>\n      <td>1.0</td>\n      <td>0.0</td>\n    </tr>\n    <tr>\n      <th>4</th>\n      <td>1</td>\n      <td>11</td>\n      <td>30</td>\n      <td>165</td>\n      <td>60</td>\n      <td>80.0</td>\n      <td>1.0</td>\n      <td>1.2</td>\n      <td>138.0</td>\n      <td>82.0</td>\n      <td>...</td>\n      <td>61.0</td>\n      <td>117.0</td>\n      <td>13.8</td>\n      <td>1.0</td>\n      <td>0.8</td>\n      <td>19.0</td>\n      <td>12.0</td>\n      <td>25.0</td>\n      <td>1.0</td>\n      <td>0.0</td>\n    </tr>\n    <tr>\n      <th>...</th>\n      <td>...</td>\n      <td>...</td>\n      <td>...</td>\n      <td>...</td>\n      <td>...</td>\n      <td>...</td>\n      <td>...</td>\n      <td>...</td>\n      <td>...</td>\n      <td>...</td>\n      <td>...</td>\n      <td>...</td>\n      <td>...</td>\n      <td>...</td>\n      <td>...</td>\n      <td>...</td>\n      <td>...</td>\n      <td>...</td>\n      <td>...</td>\n      <td>...</td>\n      <td>...</td>\n    </tr>\n    <tr>\n      <th>1186550</th>\n      <td>2</td>\n      <td>9</td>\n      <td>11</td>\n      <td>170</td>\n      <td>55</td>\n      <td>72.0</td>\n      <td>0.9</td>\n      <td>0.8</td>\n      <td>112.0</td>\n      <td>73.0</td>\n      <td>...</td>\n      <td>93.0</td>\n      <td>155.0</td>\n      <td>13.2</td>\n      <td>1.0</td>\n      <td>0.9</td>\n      <td>14.0</td>\n      <td>11.0</td>\n      <td>26.0</td>\n      <td>3.0</td>\n      <td>1.0</td>\n    </tr>\n    <tr>\n      <th>1186551</th>\n      <td>1</td>\n      <td>13</td>\n      <td>43</td>\n      <td>165</td>\n      <td>65</td>\n      <td>84.0</td>\n      <td>0.9</td>\n      <td>1.2</td>\n      <td>160.0</td>\n      <td>90.0</td>\n      <td>...</td>\n      <td>62.0</td>\n      <td>140.0</td>\n      <td>15.2</td>\n      <td>1.0</td>\n      <td>1.0</td>\n      <td>34.0</td>\n      <td>12.0</td>\n      <td>78.0</td>\n      <td>1.0</td>\n      <td>1.0</td>\n    </tr>\n    <tr>\n      <th>1186552</th>\n      <td>1</td>\n      <td>8</td>\n      <td>31</td>\n      <td>180</td>\n      <td>65</td>\n      <td>77.0</td>\n      <td>1.2</td>\n      <td>1.2</td>\n      <td>123.0</td>\n      <td>89.0</td>\n      <td>...</td>\n      <td>70.0</td>\n      <td>60.0</td>\n      <td>15.9</td>\n      <td>1.0</td>\n      <td>1.0</td>\n      <td>11.0</td>\n      <td>8.0</td>\n      <td>15.0</td>\n      <td>3.0</td>\n      <td>1.0</td>\n    </tr>\n    <tr>\n      <th>1186553</th>\n      <td>1</td>\n      <td>13</td>\n      <td>11</td>\n      <td>155</td>\n      <td>60</td>\n      <td>87.0</td>\n      <td>1.0</td>\n      <td>1.0</td>\n      <td>129.0</td>\n      <td>70.0</td>\n      <td>...</td>\n      <td>45.0</td>\n      <td>181.0</td>\n      <td>16.4</td>\n      <td>1.0</td>\n      <td>1.3</td>\n      <td>65.0</td>\n      <td>127.0</td>\n      <td>64.0</td>\n      <td>3.0</td>\n      <td>1.0</td>\n    </tr>\n    <tr>\n      <th>1186554</th>\n      <td>1</td>\n      <td>13</td>\n      <td>45</td>\n      <td>160</td>\n      <td>70</td>\n      <td>88.5</td>\n      <td>1.2</td>\n      <td>1.0</td>\n      <td>134.0</td>\n      <td>96.0</td>\n      <td>...</td>\n      <td>42.0</td>\n      <td>63.0</td>\n      <td>16.1</td>\n      <td>1.0</td>\n      <td>1.1</td>\n      <td>30.0</td>\n      <td>23.0</td>\n      <td>53.0</td>\n      <td>2.0</td>\n      <td>1.0</td>\n    </tr>\n  </tbody>\n</table>\n<p>1186555 rows × 23 columns</p>\n</div>"
     },
     "metadata": {},
     "execution_count": 17
    }
   ],
   "source": [
    "before_count = len(df)\n",
    "\n",
    "df.drop(df[df['허리둘레'] <= 8].index, inplace=True)\n",
    "df.drop(df[df['허리둘레'] == 999].index, inplace=True)\n",
    "df.drop(df[df['(혈청지오티)AST'] == 9999].index, inplace=True)\n",
    "df.drop(df[df['감마지티피'] == 999].index, inplace=True)\n",
    "\n",
    "after_count = len(df)\n",
    "\n",
    "df.reset_index(drop=True, inplace=True)\n",
    "df.to_csv(f'{preprocessed_path}/4_drop_outliers.csv', index=False)\n",
    "\n",
    "print('%d rows are deleted since they have outlier values' %(before_count - after_count))\n",
    "df"
   ]
  },
  {
   "source": [
    "# 5. Drop invalid total cholesterols"
   ],
   "cell_type": "markdown",
   "metadata": {}
  },
  {
   "cell_type": "code",
   "execution_count": 22,
   "metadata": {},
   "outputs": [],
   "source": [
    "df = pd.read_csv(f'{preprocessed_path}/4_drop_outliers.csv')"
   ]
  },
  {
   "cell_type": "code",
   "execution_count": 24,
   "metadata": {},
   "outputs": [
    {
     "output_type": "stream",
     "name": "stdout",
     "text": [
      "20669 rows are deleted since they have invalid cholesterol values\n"
     ]
    },
    {
     "output_type": "execute_result",
     "data": {
      "text/plain": [
       "         성별코드  연령대코드(5세단위)  시도코드  신장(5Cm단위)  체중(5Kg단위)  허리둘레  시력(좌)  시력(우)  \\\n",
       "0           1            8    43        170         75  90.0    1.0    1.0   \n",
       "1           1            7    11        180         80  89.0    0.9    1.2   \n",
       "2           1            9    41        165         75  91.0    1.2    1.5   \n",
       "3           1           11    48        175         80  91.0    1.5    1.2   \n",
       "4           1           11    30        165         60  80.0    1.0    1.2   \n",
       "...       ...          ...   ...        ...        ...   ...    ...    ...   \n",
       "1165881     2            9    11        170         55  72.0    0.9    0.8   \n",
       "1165882     1           13    43        165         65  84.0    0.9    1.2   \n",
       "1165883     1            8    31        180         65  77.0    1.2    1.2   \n",
       "1165884     1           13    11        155         60  87.0    1.0    1.0   \n",
       "1165885     1           13    45        160         70  88.5    1.2    1.0   \n",
       "\n",
       "         수축기혈압  이완기혈압  ...  HDL콜레스테롤  LDL콜레스테롤   혈색소  요단백  혈청크레아티닌  \\\n",
       "0        120.0   80.0  ...      48.0     126.0  17.1  1.0      1.0   \n",
       "1        130.0   82.0  ...      55.0     148.0  15.8  1.0      0.9   \n",
       "2        120.0   70.0  ...      41.0      74.0  15.8  1.0      0.9   \n",
       "3        145.0   87.0  ...      76.0     104.0  17.6  1.0      1.1   \n",
       "4        138.0   82.0  ...      61.0     117.0  13.8  1.0      0.8   \n",
       "...        ...    ...  ...       ...       ...   ...  ...      ...   \n",
       "1165881  112.0   73.0  ...      93.0     155.0  13.2  1.0      0.9   \n",
       "1165882  160.0   90.0  ...      62.0     140.0  15.2  1.0      1.0   \n",
       "1165883  123.0   89.0  ...      70.0      60.0  15.9  1.0      1.0   \n",
       "1165884  129.0   70.0  ...      45.0     181.0  16.4  1.0      1.3   \n",
       "1165885  134.0   96.0  ...      42.0      63.0  16.1  1.0      1.1   \n",
       "\n",
       "         (혈청지오티)AST  (혈청지오티)ALT  감마지티피  흡연상태  음주여부  \n",
       "0              21.0        35.0   40.0   1.0   1.0  \n",
       "1              20.0        36.0   27.0   3.0   0.0  \n",
       "2              47.0        32.0   68.0   1.0   0.0  \n",
       "3              29.0        34.0   18.0   1.0   0.0  \n",
       "4              19.0        12.0   25.0   1.0   0.0  \n",
       "...             ...         ...    ...   ...   ...  \n",
       "1165881        14.0        11.0   26.0   3.0   1.0  \n",
       "1165882        34.0        12.0   78.0   1.0   1.0  \n",
       "1165883        11.0         8.0   15.0   3.0   1.0  \n",
       "1165884        65.0       127.0   64.0   3.0   1.0  \n",
       "1165885        30.0        23.0   53.0   2.0   1.0  \n",
       "\n",
       "[1165886 rows x 23 columns]"
      ],
      "text/html": "<div>\n<style scoped>\n    .dataframe tbody tr th:only-of-type {\n        vertical-align: middle;\n    }\n\n    .dataframe tbody tr th {\n        vertical-align: top;\n    }\n\n    .dataframe thead th {\n        text-align: right;\n    }\n</style>\n<table border=\"1\" class=\"dataframe\">\n  <thead>\n    <tr style=\"text-align: right;\">\n      <th></th>\n      <th>성별코드</th>\n      <th>연령대코드(5세단위)</th>\n      <th>시도코드</th>\n      <th>신장(5Cm단위)</th>\n      <th>체중(5Kg단위)</th>\n      <th>허리둘레</th>\n      <th>시력(좌)</th>\n      <th>시력(우)</th>\n      <th>수축기혈압</th>\n      <th>이완기혈압</th>\n      <th>...</th>\n      <th>HDL콜레스테롤</th>\n      <th>LDL콜레스테롤</th>\n      <th>혈색소</th>\n      <th>요단백</th>\n      <th>혈청크레아티닌</th>\n      <th>(혈청지오티)AST</th>\n      <th>(혈청지오티)ALT</th>\n      <th>감마지티피</th>\n      <th>흡연상태</th>\n      <th>음주여부</th>\n    </tr>\n  </thead>\n  <tbody>\n    <tr>\n      <th>0</th>\n      <td>1</td>\n      <td>8</td>\n      <td>43</td>\n      <td>170</td>\n      <td>75</td>\n      <td>90.0</td>\n      <td>1.0</td>\n      <td>1.0</td>\n      <td>120.0</td>\n      <td>80.0</td>\n      <td>...</td>\n      <td>48.0</td>\n      <td>126.0</td>\n      <td>17.1</td>\n      <td>1.0</td>\n      <td>1.0</td>\n      <td>21.0</td>\n      <td>35.0</td>\n      <td>40.0</td>\n      <td>1.0</td>\n      <td>1.0</td>\n    </tr>\n    <tr>\n      <th>1</th>\n      <td>1</td>\n      <td>7</td>\n      <td>11</td>\n      <td>180</td>\n      <td>80</td>\n      <td>89.0</td>\n      <td>0.9</td>\n      <td>1.2</td>\n      <td>130.0</td>\n      <td>82.0</td>\n      <td>...</td>\n      <td>55.0</td>\n      <td>148.0</td>\n      <td>15.8</td>\n      <td>1.0</td>\n      <td>0.9</td>\n      <td>20.0</td>\n      <td>36.0</td>\n      <td>27.0</td>\n      <td>3.0</td>\n      <td>0.0</td>\n    </tr>\n    <tr>\n      <th>2</th>\n      <td>1</td>\n      <td>9</td>\n      <td>41</td>\n      <td>165</td>\n      <td>75</td>\n      <td>91.0</td>\n      <td>1.2</td>\n      <td>1.5</td>\n      <td>120.0</td>\n      <td>70.0</td>\n      <td>...</td>\n      <td>41.0</td>\n      <td>74.0</td>\n      <td>15.8</td>\n      <td>1.0</td>\n      <td>0.9</td>\n      <td>47.0</td>\n      <td>32.0</td>\n      <td>68.0</td>\n      <td>1.0</td>\n      <td>0.0</td>\n    </tr>\n    <tr>\n      <th>3</th>\n      <td>1</td>\n      <td>11</td>\n      <td>48</td>\n      <td>175</td>\n      <td>80</td>\n      <td>91.0</td>\n      <td>1.5</td>\n      <td>1.2</td>\n      <td>145.0</td>\n      <td>87.0</td>\n      <td>...</td>\n      <td>76.0</td>\n      <td>104.0</td>\n      <td>17.6</td>\n      <td>1.0</td>\n      <td>1.1</td>\n      <td>29.0</td>\n      <td>34.0</td>\n      <td>18.0</td>\n      <td>1.0</td>\n      <td>0.0</td>\n    </tr>\n    <tr>\n      <th>4</th>\n      <td>1</td>\n      <td>11</td>\n      <td>30</td>\n      <td>165</td>\n      <td>60</td>\n      <td>80.0</td>\n      <td>1.0</td>\n      <td>1.2</td>\n      <td>138.0</td>\n      <td>82.0</td>\n      <td>...</td>\n      <td>61.0</td>\n      <td>117.0</td>\n      <td>13.8</td>\n      <td>1.0</td>\n      <td>0.8</td>\n      <td>19.0</td>\n      <td>12.0</td>\n      <td>25.0</td>\n      <td>1.0</td>\n      <td>0.0</td>\n    </tr>\n    <tr>\n      <th>...</th>\n      <td>...</td>\n      <td>...</td>\n      <td>...</td>\n      <td>...</td>\n      <td>...</td>\n      <td>...</td>\n      <td>...</td>\n      <td>...</td>\n      <td>...</td>\n      <td>...</td>\n      <td>...</td>\n      <td>...</td>\n      <td>...</td>\n      <td>...</td>\n      <td>...</td>\n      <td>...</td>\n      <td>...</td>\n      <td>...</td>\n      <td>...</td>\n      <td>...</td>\n      <td>...</td>\n    </tr>\n    <tr>\n      <th>1165881</th>\n      <td>2</td>\n      <td>9</td>\n      <td>11</td>\n      <td>170</td>\n      <td>55</td>\n      <td>72.0</td>\n      <td>0.9</td>\n      <td>0.8</td>\n      <td>112.0</td>\n      <td>73.0</td>\n      <td>...</td>\n      <td>93.0</td>\n      <td>155.0</td>\n      <td>13.2</td>\n      <td>1.0</td>\n      <td>0.9</td>\n      <td>14.0</td>\n      <td>11.0</td>\n      <td>26.0</td>\n      <td>3.0</td>\n      <td>1.0</td>\n    </tr>\n    <tr>\n      <th>1165882</th>\n      <td>1</td>\n      <td>13</td>\n      <td>43</td>\n      <td>165</td>\n      <td>65</td>\n      <td>84.0</td>\n      <td>0.9</td>\n      <td>1.2</td>\n      <td>160.0</td>\n      <td>90.0</td>\n      <td>...</td>\n      <td>62.0</td>\n      <td>140.0</td>\n      <td>15.2</td>\n      <td>1.0</td>\n      <td>1.0</td>\n      <td>34.0</td>\n      <td>12.0</td>\n      <td>78.0</td>\n      <td>1.0</td>\n      <td>1.0</td>\n    </tr>\n    <tr>\n      <th>1165883</th>\n      <td>1</td>\n      <td>8</td>\n      <td>31</td>\n      <td>180</td>\n      <td>65</td>\n      <td>77.0</td>\n      <td>1.2</td>\n      <td>1.2</td>\n      <td>123.0</td>\n      <td>89.0</td>\n      <td>...</td>\n      <td>70.0</td>\n      <td>60.0</td>\n      <td>15.9</td>\n      <td>1.0</td>\n      <td>1.0</td>\n      <td>11.0</td>\n      <td>8.0</td>\n      <td>15.0</td>\n      <td>3.0</td>\n      <td>1.0</td>\n    </tr>\n    <tr>\n      <th>1165884</th>\n      <td>1</td>\n      <td>13</td>\n      <td>11</td>\n      <td>155</td>\n      <td>60</td>\n      <td>87.0</td>\n      <td>1.0</td>\n      <td>1.0</td>\n      <td>129.0</td>\n      <td>70.0</td>\n      <td>...</td>\n      <td>45.0</td>\n      <td>181.0</td>\n      <td>16.4</td>\n      <td>1.0</td>\n      <td>1.3</td>\n      <td>65.0</td>\n      <td>127.0</td>\n      <td>64.0</td>\n      <td>3.0</td>\n      <td>1.0</td>\n    </tr>\n    <tr>\n      <th>1165885</th>\n      <td>1</td>\n      <td>13</td>\n      <td>45</td>\n      <td>160</td>\n      <td>70</td>\n      <td>88.5</td>\n      <td>1.2</td>\n      <td>1.0</td>\n      <td>134.0</td>\n      <td>96.0</td>\n      <td>...</td>\n      <td>42.0</td>\n      <td>63.0</td>\n      <td>16.1</td>\n      <td>1.0</td>\n      <td>1.1</td>\n      <td>30.0</td>\n      <td>23.0</td>\n      <td>53.0</td>\n      <td>2.0</td>\n      <td>1.0</td>\n    </tr>\n  </tbody>\n</table>\n<p>1165886 rows × 23 columns</p>\n</div>"
     },
     "metadata": {},
     "execution_count": 24
    }
   ],
   "source": [
    "before_count = len(df)\n",
    "\n",
    "weight = 0.1\n",
    "length = df.shape[0]\n",
    "invalid_cholesterol_idx = []\n",
    "for idx in range(length):\n",
    "    calculated = df.iloc[idx, 13] + df.iloc[idx, 14] + (df.iloc[idx, 12] / 5)\n",
    "    total = df.iloc[idx, 11]\n",
    "    if (total < (1 - weight) * calculated\n",
    "            or (1 + weight) * calculated < total):\n",
    "        invalid_cholesterol_idx.append(idx)\n",
    "\n",
    "df = df.iloc[df.index.drop(invalid_cholesterol_idx)]\n",
    "\n",
    "after_count = len(df)\n",
    "\n",
    "df.reset_index(drop=True, inplace=True)\n",
    "df.to_csv(f'{preprocessed_path}/5_drop_invalid_cholesterol.csv', index=False)\n",
    "\n",
    "print('%d rows are deleted since they have invalid cholesterol values' %(before_count - after_count))\n",
    "df"
   ]
  },
  {
   "source": [
    "# 6. Calculate BMI"
   ],
   "cell_type": "markdown",
   "metadata": {}
  },
  {
   "cell_type": "code",
   "execution_count": 19,
   "metadata": {},
   "outputs": [
    {
     "output_type": "stream",
     "name": "stderr",
     "text": [
      "<ipython-input-19-f68b8a9b7ad6>:3: SettingWithCopyWarning: \nA value is trying to be set on a copy of a slice from a DataFrame.\nTry using .loc[row_indexer,col_indexer] = value instead\n\nSee the caveats in the documentation: https://pandas.pydata.org/pandas-docs/stable/user_guide/indexing.html#returning-a-view-versus-a-copy\n  df['BMI'] = round(weight / (height * height / 10000), 1)\n"
     ]
    },
    {
     "output_type": "execute_result",
     "data": {
      "text/plain": [
       "         성별코드  연령대코드(5세단위)  시도코드  신장(5Cm단위)  체중(5Kg단위)  허리둘레  시력(좌)  시력(우)  \\\n",
       "0           1            8    43        170         75  90.0    1.0    1.0   \n",
       "1           1            7    11        180         80  89.0    0.9    1.2   \n",
       "2           1            9    41        165         75  91.0    1.2    1.5   \n",
       "3           1           11    48        175         80  91.0    1.5    1.2   \n",
       "4           1           11    30        165         60  80.0    1.0    1.2   \n",
       "...       ...          ...   ...        ...        ...   ...    ...    ...   \n",
       "1165881     2            9    11        170         55  72.0    0.9    0.8   \n",
       "1165882     1           13    43        165         65  84.0    0.9    1.2   \n",
       "1165883     1            8    31        180         65  77.0    1.2    1.2   \n",
       "1165884     1           13    11        155         60  87.0    1.0    1.0   \n",
       "1165885     1           13    45        160         70  88.5    1.2    1.0   \n",
       "\n",
       "         수축기혈압  이완기혈압  ...  LDL콜레스테롤   혈색소  요단백  혈청크레아티닌  (혈청지오티)AST  \\\n",
       "0        120.0   80.0  ...     126.0  17.1  1.0      1.0        21.0   \n",
       "1        130.0   82.0  ...     148.0  15.8  1.0      0.9        20.0   \n",
       "2        120.0   70.0  ...      74.0  15.8  1.0      0.9        47.0   \n",
       "3        145.0   87.0  ...     104.0  17.6  1.0      1.1        29.0   \n",
       "4        138.0   82.0  ...     117.0  13.8  1.0      0.8        19.0   \n",
       "...        ...    ...  ...       ...   ...  ...      ...         ...   \n",
       "1165881  112.0   73.0  ...     155.0  13.2  1.0      0.9        14.0   \n",
       "1165882  160.0   90.0  ...     140.0  15.2  1.0      1.0        34.0   \n",
       "1165883  123.0   89.0  ...      60.0  15.9  1.0      1.0        11.0   \n",
       "1165884  129.0   70.0  ...     181.0  16.4  1.0      1.3        65.0   \n",
       "1165885  134.0   96.0  ...      63.0  16.1  1.0      1.1        30.0   \n",
       "\n",
       "         (혈청지오티)ALT  감마지티피  흡연상태  음주여부   BMI  \n",
       "0              35.0   40.0   1.0   1.0  26.0  \n",
       "1              36.0   27.0   3.0   0.0  24.7  \n",
       "2              32.0   68.0   1.0   0.0  27.5  \n",
       "3              34.0   18.0   1.0   0.0  26.1  \n",
       "4              12.0   25.0   1.0   0.0  22.0  \n",
       "...             ...    ...   ...   ...   ...  \n",
       "1165881        11.0   26.0   3.0   1.0  19.0  \n",
       "1165882        12.0   78.0   1.0   1.0  23.9  \n",
       "1165883         8.0   15.0   3.0   1.0  20.1  \n",
       "1165884       127.0   64.0   3.0   1.0  25.0  \n",
       "1165885        23.0   53.0   2.0   1.0  27.3  \n",
       "\n",
       "[1165886 rows x 24 columns]"
      ],
      "text/html": "<div>\n<style scoped>\n    .dataframe tbody tr th:only-of-type {\n        vertical-align: middle;\n    }\n\n    .dataframe tbody tr th {\n        vertical-align: top;\n    }\n\n    .dataframe thead th {\n        text-align: right;\n    }\n</style>\n<table border=\"1\" class=\"dataframe\">\n  <thead>\n    <tr style=\"text-align: right;\">\n      <th></th>\n      <th>성별코드</th>\n      <th>연령대코드(5세단위)</th>\n      <th>시도코드</th>\n      <th>신장(5Cm단위)</th>\n      <th>체중(5Kg단위)</th>\n      <th>허리둘레</th>\n      <th>시력(좌)</th>\n      <th>시력(우)</th>\n      <th>수축기혈압</th>\n      <th>이완기혈압</th>\n      <th>...</th>\n      <th>LDL콜레스테롤</th>\n      <th>혈색소</th>\n      <th>요단백</th>\n      <th>혈청크레아티닌</th>\n      <th>(혈청지오티)AST</th>\n      <th>(혈청지오티)ALT</th>\n      <th>감마지티피</th>\n      <th>흡연상태</th>\n      <th>음주여부</th>\n      <th>BMI</th>\n    </tr>\n  </thead>\n  <tbody>\n    <tr>\n      <th>0</th>\n      <td>1</td>\n      <td>8</td>\n      <td>43</td>\n      <td>170</td>\n      <td>75</td>\n      <td>90.0</td>\n      <td>1.0</td>\n      <td>1.0</td>\n      <td>120.0</td>\n      <td>80.0</td>\n      <td>...</td>\n      <td>126.0</td>\n      <td>17.1</td>\n      <td>1.0</td>\n      <td>1.0</td>\n      <td>21.0</td>\n      <td>35.0</td>\n      <td>40.0</td>\n      <td>1.0</td>\n      <td>1.0</td>\n      <td>26.0</td>\n    </tr>\n    <tr>\n      <th>1</th>\n      <td>1</td>\n      <td>7</td>\n      <td>11</td>\n      <td>180</td>\n      <td>80</td>\n      <td>89.0</td>\n      <td>0.9</td>\n      <td>1.2</td>\n      <td>130.0</td>\n      <td>82.0</td>\n      <td>...</td>\n      <td>148.0</td>\n      <td>15.8</td>\n      <td>1.0</td>\n      <td>0.9</td>\n      <td>20.0</td>\n      <td>36.0</td>\n      <td>27.0</td>\n      <td>3.0</td>\n      <td>0.0</td>\n      <td>24.7</td>\n    </tr>\n    <tr>\n      <th>2</th>\n      <td>1</td>\n      <td>9</td>\n      <td>41</td>\n      <td>165</td>\n      <td>75</td>\n      <td>91.0</td>\n      <td>1.2</td>\n      <td>1.5</td>\n      <td>120.0</td>\n      <td>70.0</td>\n      <td>...</td>\n      <td>74.0</td>\n      <td>15.8</td>\n      <td>1.0</td>\n      <td>0.9</td>\n      <td>47.0</td>\n      <td>32.0</td>\n      <td>68.0</td>\n      <td>1.0</td>\n      <td>0.0</td>\n      <td>27.5</td>\n    </tr>\n    <tr>\n      <th>3</th>\n      <td>1</td>\n      <td>11</td>\n      <td>48</td>\n      <td>175</td>\n      <td>80</td>\n      <td>91.0</td>\n      <td>1.5</td>\n      <td>1.2</td>\n      <td>145.0</td>\n      <td>87.0</td>\n      <td>...</td>\n      <td>104.0</td>\n      <td>17.6</td>\n      <td>1.0</td>\n      <td>1.1</td>\n      <td>29.0</td>\n      <td>34.0</td>\n      <td>18.0</td>\n      <td>1.0</td>\n      <td>0.0</td>\n      <td>26.1</td>\n    </tr>\n    <tr>\n      <th>4</th>\n      <td>1</td>\n      <td>11</td>\n      <td>30</td>\n      <td>165</td>\n      <td>60</td>\n      <td>80.0</td>\n      <td>1.0</td>\n      <td>1.2</td>\n      <td>138.0</td>\n      <td>82.0</td>\n      <td>...</td>\n      <td>117.0</td>\n      <td>13.8</td>\n      <td>1.0</td>\n      <td>0.8</td>\n      <td>19.0</td>\n      <td>12.0</td>\n      <td>25.0</td>\n      <td>1.0</td>\n      <td>0.0</td>\n      <td>22.0</td>\n    </tr>\n    <tr>\n      <th>...</th>\n      <td>...</td>\n      <td>...</td>\n      <td>...</td>\n      <td>...</td>\n      <td>...</td>\n      <td>...</td>\n      <td>...</td>\n      <td>...</td>\n      <td>...</td>\n      <td>...</td>\n      <td>...</td>\n      <td>...</td>\n      <td>...</td>\n      <td>...</td>\n      <td>...</td>\n      <td>...</td>\n      <td>...</td>\n      <td>...</td>\n      <td>...</td>\n      <td>...</td>\n      <td>...</td>\n    </tr>\n    <tr>\n      <th>1165881</th>\n      <td>2</td>\n      <td>9</td>\n      <td>11</td>\n      <td>170</td>\n      <td>55</td>\n      <td>72.0</td>\n      <td>0.9</td>\n      <td>0.8</td>\n      <td>112.0</td>\n      <td>73.0</td>\n      <td>...</td>\n      <td>155.0</td>\n      <td>13.2</td>\n      <td>1.0</td>\n      <td>0.9</td>\n      <td>14.0</td>\n      <td>11.0</td>\n      <td>26.0</td>\n      <td>3.0</td>\n      <td>1.0</td>\n      <td>19.0</td>\n    </tr>\n    <tr>\n      <th>1165882</th>\n      <td>1</td>\n      <td>13</td>\n      <td>43</td>\n      <td>165</td>\n      <td>65</td>\n      <td>84.0</td>\n      <td>0.9</td>\n      <td>1.2</td>\n      <td>160.0</td>\n      <td>90.0</td>\n      <td>...</td>\n      <td>140.0</td>\n      <td>15.2</td>\n      <td>1.0</td>\n      <td>1.0</td>\n      <td>34.0</td>\n      <td>12.0</td>\n      <td>78.0</td>\n      <td>1.0</td>\n      <td>1.0</td>\n      <td>23.9</td>\n    </tr>\n    <tr>\n      <th>1165883</th>\n      <td>1</td>\n      <td>8</td>\n      <td>31</td>\n      <td>180</td>\n      <td>65</td>\n      <td>77.0</td>\n      <td>1.2</td>\n      <td>1.2</td>\n      <td>123.0</td>\n      <td>89.0</td>\n      <td>...</td>\n      <td>60.0</td>\n      <td>15.9</td>\n      <td>1.0</td>\n      <td>1.0</td>\n      <td>11.0</td>\n      <td>8.0</td>\n      <td>15.0</td>\n      <td>3.0</td>\n      <td>1.0</td>\n      <td>20.1</td>\n    </tr>\n    <tr>\n      <th>1165884</th>\n      <td>1</td>\n      <td>13</td>\n      <td>11</td>\n      <td>155</td>\n      <td>60</td>\n      <td>87.0</td>\n      <td>1.0</td>\n      <td>1.0</td>\n      <td>129.0</td>\n      <td>70.0</td>\n      <td>...</td>\n      <td>181.0</td>\n      <td>16.4</td>\n      <td>1.0</td>\n      <td>1.3</td>\n      <td>65.0</td>\n      <td>127.0</td>\n      <td>64.0</td>\n      <td>3.0</td>\n      <td>1.0</td>\n      <td>25.0</td>\n    </tr>\n    <tr>\n      <th>1165885</th>\n      <td>1</td>\n      <td>13</td>\n      <td>45</td>\n      <td>160</td>\n      <td>70</td>\n      <td>88.5</td>\n      <td>1.2</td>\n      <td>1.0</td>\n      <td>134.0</td>\n      <td>96.0</td>\n      <td>...</td>\n      <td>63.0</td>\n      <td>16.1</td>\n      <td>1.0</td>\n      <td>1.1</td>\n      <td>30.0</td>\n      <td>23.0</td>\n      <td>53.0</td>\n      <td>2.0</td>\n      <td>1.0</td>\n      <td>27.3</td>\n    </tr>\n  </tbody>\n</table>\n<p>1165886 rows × 24 columns</p>\n</div>"
     },
     "metadata": {},
     "execution_count": 19
    }
   ],
   "source": [
    "weight = df['체중(5Kg단위)']\n",
    "height = df['신장(5Cm단위)']\n",
    "df['BMI'] = round(weight / (height * height / 10000), 1)\n",
    "\n",
    "df.to_csv(f'{preprocessed_path}/6_calculate_BMI.csv', index=False)\n",
    "df"
   ]
  },
  {
   "source": [
    "# 7. Label blood sugar"
   ],
   "cell_type": "markdown",
   "metadata": {}
  },
  {
   "cell_type": "code",
   "execution_count": 20,
   "metadata": {},
   "outputs": [
    {
     "output_type": "stream",
     "name": "stderr",
     "text": [
      "/home/seonghoon/.local/lib/python3.8/site-packages/pandas/core/indexing.py:1720: SettingWithCopyWarning: \nA value is trying to be set on a copy of a slice from a DataFrame.\nTry using .loc[row_indexer,col_indexer] = value instead\n\nSee the caveats in the documentation: https://pandas.pydata.org/pandas-docs/stable/user_guide/indexing.html#returning-a-view-versus-a-copy\n  self._setitem_single_column(loc, value, pi)\n/home/seonghoon/.local/lib/python3.8/site-packages/pandas/core/indexing.py:1720: SettingWithCopyWarning: \nA value is trying to be set on a copy of a slice from a DataFrame.\nTry using .loc[row_indexer,col_indexer] = value instead\n\nSee the caveats in the documentation: https://pandas.pydata.org/pandas-docs/stable/user_guide/indexing.html#returning-a-view-versus-a-copy\n  self._setitem_single_column(loc, value, pi)\n"
     ]
    },
    {
     "output_type": "execute_result",
     "data": {
      "text/plain": [
       "         성별코드  연령대코드(5세단위)  시도코드  신장(5Cm단위)  체중(5Kg단위)  허리둘레  시력(좌)  시력(우)  \\\n",
       "0           1            8    43        170         75  90.0    1.0    1.0   \n",
       "1           1            7    11        180         80  89.0    0.9    1.2   \n",
       "2           1            9    41        165         75  91.0    1.2    1.5   \n",
       "3           1           11    48        175         80  91.0    1.5    1.2   \n",
       "4           1           11    30        165         60  80.0    1.0    1.2   \n",
       "...       ...          ...   ...        ...        ...   ...    ...    ...   \n",
       "1165881     2            9    11        170         55  72.0    0.9    0.8   \n",
       "1165882     1           13    43        165         65  84.0    0.9    1.2   \n",
       "1165883     1            8    31        180         65  77.0    1.2    1.2   \n",
       "1165884     1           13    11        155         60  87.0    1.0    1.0   \n",
       "1165885     1           13    45        160         70  88.5    1.2    1.0   \n",
       "\n",
       "         수축기혈압  이완기혈압  ...  LDL콜레스테롤   혈색소  요단백  혈청크레아티닌  (혈청지오티)AST  \\\n",
       "0        120.0   80.0  ...     126.0  17.1  1.0      1.0        21.0   \n",
       "1        130.0   82.0  ...     148.0  15.8  1.0      0.9        20.0   \n",
       "2        120.0   70.0  ...      74.0  15.8  1.0      0.9        47.0   \n",
       "3        145.0   87.0  ...     104.0  17.6  1.0      1.1        29.0   \n",
       "4        138.0   82.0  ...     117.0  13.8  1.0      0.8        19.0   \n",
       "...        ...    ...  ...       ...   ...  ...      ...         ...   \n",
       "1165881  112.0   73.0  ...     155.0  13.2  1.0      0.9        14.0   \n",
       "1165882  160.0   90.0  ...     140.0  15.2  1.0      1.0        34.0   \n",
       "1165883  123.0   89.0  ...      60.0  15.9  1.0      1.0        11.0   \n",
       "1165884  129.0   70.0  ...     181.0  16.4  1.0      1.3        65.0   \n",
       "1165885  134.0   96.0  ...      63.0  16.1  1.0      1.1        30.0   \n",
       "\n",
       "         (혈청지오티)ALT  감마지티피  흡연상태  음주여부   BMI  \n",
       "0              35.0   40.0   1.0   1.0  26.0  \n",
       "1              36.0   27.0   3.0   0.0  24.7  \n",
       "2              32.0   68.0   1.0   0.0  27.5  \n",
       "3              34.0   18.0   1.0   0.0  26.1  \n",
       "4              12.0   25.0   1.0   0.0  22.0  \n",
       "...             ...    ...   ...   ...   ...  \n",
       "1165881        11.0   26.0   3.0   1.0  19.0  \n",
       "1165882        12.0   78.0   1.0   1.0  23.9  \n",
       "1165883         8.0   15.0   3.0   1.0  20.1  \n",
       "1165884       127.0   64.0   3.0   1.0  25.0  \n",
       "1165885        23.0   53.0   2.0   1.0  27.3  \n",
       "\n",
       "[1165886 rows x 24 columns]"
      ],
      "text/html": "<div>\n<style scoped>\n    .dataframe tbody tr th:only-of-type {\n        vertical-align: middle;\n    }\n\n    .dataframe tbody tr th {\n        vertical-align: top;\n    }\n\n    .dataframe thead th {\n        text-align: right;\n    }\n</style>\n<table border=\"1\" class=\"dataframe\">\n  <thead>\n    <tr style=\"text-align: right;\">\n      <th></th>\n      <th>성별코드</th>\n      <th>연령대코드(5세단위)</th>\n      <th>시도코드</th>\n      <th>신장(5Cm단위)</th>\n      <th>체중(5Kg단위)</th>\n      <th>허리둘레</th>\n      <th>시력(좌)</th>\n      <th>시력(우)</th>\n      <th>수축기혈압</th>\n      <th>이완기혈압</th>\n      <th>...</th>\n      <th>LDL콜레스테롤</th>\n      <th>혈색소</th>\n      <th>요단백</th>\n      <th>혈청크레아티닌</th>\n      <th>(혈청지오티)AST</th>\n      <th>(혈청지오티)ALT</th>\n      <th>감마지티피</th>\n      <th>흡연상태</th>\n      <th>음주여부</th>\n      <th>BMI</th>\n    </tr>\n  </thead>\n  <tbody>\n    <tr>\n      <th>0</th>\n      <td>1</td>\n      <td>8</td>\n      <td>43</td>\n      <td>170</td>\n      <td>75</td>\n      <td>90.0</td>\n      <td>1.0</td>\n      <td>1.0</td>\n      <td>120.0</td>\n      <td>80.0</td>\n      <td>...</td>\n      <td>126.0</td>\n      <td>17.1</td>\n      <td>1.0</td>\n      <td>1.0</td>\n      <td>21.0</td>\n      <td>35.0</td>\n      <td>40.0</td>\n      <td>1.0</td>\n      <td>1.0</td>\n      <td>26.0</td>\n    </tr>\n    <tr>\n      <th>1</th>\n      <td>1</td>\n      <td>7</td>\n      <td>11</td>\n      <td>180</td>\n      <td>80</td>\n      <td>89.0</td>\n      <td>0.9</td>\n      <td>1.2</td>\n      <td>130.0</td>\n      <td>82.0</td>\n      <td>...</td>\n      <td>148.0</td>\n      <td>15.8</td>\n      <td>1.0</td>\n      <td>0.9</td>\n      <td>20.0</td>\n      <td>36.0</td>\n      <td>27.0</td>\n      <td>3.0</td>\n      <td>0.0</td>\n      <td>24.7</td>\n    </tr>\n    <tr>\n      <th>2</th>\n      <td>1</td>\n      <td>9</td>\n      <td>41</td>\n      <td>165</td>\n      <td>75</td>\n      <td>91.0</td>\n      <td>1.2</td>\n      <td>1.5</td>\n      <td>120.0</td>\n      <td>70.0</td>\n      <td>...</td>\n      <td>74.0</td>\n      <td>15.8</td>\n      <td>1.0</td>\n      <td>0.9</td>\n      <td>47.0</td>\n      <td>32.0</td>\n      <td>68.0</td>\n      <td>1.0</td>\n      <td>0.0</td>\n      <td>27.5</td>\n    </tr>\n    <tr>\n      <th>3</th>\n      <td>1</td>\n      <td>11</td>\n      <td>48</td>\n      <td>175</td>\n      <td>80</td>\n      <td>91.0</td>\n      <td>1.5</td>\n      <td>1.2</td>\n      <td>145.0</td>\n      <td>87.0</td>\n      <td>...</td>\n      <td>104.0</td>\n      <td>17.6</td>\n      <td>1.0</td>\n      <td>1.1</td>\n      <td>29.0</td>\n      <td>34.0</td>\n      <td>18.0</td>\n      <td>1.0</td>\n      <td>0.0</td>\n      <td>26.1</td>\n    </tr>\n    <tr>\n      <th>4</th>\n      <td>1</td>\n      <td>11</td>\n      <td>30</td>\n      <td>165</td>\n      <td>60</td>\n      <td>80.0</td>\n      <td>1.0</td>\n      <td>1.2</td>\n      <td>138.0</td>\n      <td>82.0</td>\n      <td>...</td>\n      <td>117.0</td>\n      <td>13.8</td>\n      <td>1.0</td>\n      <td>0.8</td>\n      <td>19.0</td>\n      <td>12.0</td>\n      <td>25.0</td>\n      <td>1.0</td>\n      <td>0.0</td>\n      <td>22.0</td>\n    </tr>\n    <tr>\n      <th>...</th>\n      <td>...</td>\n      <td>...</td>\n      <td>...</td>\n      <td>...</td>\n      <td>...</td>\n      <td>...</td>\n      <td>...</td>\n      <td>...</td>\n      <td>...</td>\n      <td>...</td>\n      <td>...</td>\n      <td>...</td>\n      <td>...</td>\n      <td>...</td>\n      <td>...</td>\n      <td>...</td>\n      <td>...</td>\n      <td>...</td>\n      <td>...</td>\n      <td>...</td>\n      <td>...</td>\n    </tr>\n    <tr>\n      <th>1165881</th>\n      <td>2</td>\n      <td>9</td>\n      <td>11</td>\n      <td>170</td>\n      <td>55</td>\n      <td>72.0</td>\n      <td>0.9</td>\n      <td>0.8</td>\n      <td>112.0</td>\n      <td>73.0</td>\n      <td>...</td>\n      <td>155.0</td>\n      <td>13.2</td>\n      <td>1.0</td>\n      <td>0.9</td>\n      <td>14.0</td>\n      <td>11.0</td>\n      <td>26.0</td>\n      <td>3.0</td>\n      <td>1.0</td>\n      <td>19.0</td>\n    </tr>\n    <tr>\n      <th>1165882</th>\n      <td>1</td>\n      <td>13</td>\n      <td>43</td>\n      <td>165</td>\n      <td>65</td>\n      <td>84.0</td>\n      <td>0.9</td>\n      <td>1.2</td>\n      <td>160.0</td>\n      <td>90.0</td>\n      <td>...</td>\n      <td>140.0</td>\n      <td>15.2</td>\n      <td>1.0</td>\n      <td>1.0</td>\n      <td>34.0</td>\n      <td>12.0</td>\n      <td>78.0</td>\n      <td>1.0</td>\n      <td>1.0</td>\n      <td>23.9</td>\n    </tr>\n    <tr>\n      <th>1165883</th>\n      <td>1</td>\n      <td>8</td>\n      <td>31</td>\n      <td>180</td>\n      <td>65</td>\n      <td>77.0</td>\n      <td>1.2</td>\n      <td>1.2</td>\n      <td>123.0</td>\n      <td>89.0</td>\n      <td>...</td>\n      <td>60.0</td>\n      <td>15.9</td>\n      <td>1.0</td>\n      <td>1.0</td>\n      <td>11.0</td>\n      <td>8.0</td>\n      <td>15.0</td>\n      <td>3.0</td>\n      <td>1.0</td>\n      <td>20.1</td>\n    </tr>\n    <tr>\n      <th>1165884</th>\n      <td>1</td>\n      <td>13</td>\n      <td>11</td>\n      <td>155</td>\n      <td>60</td>\n      <td>87.0</td>\n      <td>1.0</td>\n      <td>1.0</td>\n      <td>129.0</td>\n      <td>70.0</td>\n      <td>...</td>\n      <td>181.0</td>\n      <td>16.4</td>\n      <td>1.0</td>\n      <td>1.3</td>\n      <td>65.0</td>\n      <td>127.0</td>\n      <td>64.0</td>\n      <td>3.0</td>\n      <td>1.0</td>\n      <td>25.0</td>\n    </tr>\n    <tr>\n      <th>1165885</th>\n      <td>1</td>\n      <td>13</td>\n      <td>45</td>\n      <td>160</td>\n      <td>70</td>\n      <td>88.5</td>\n      <td>1.2</td>\n      <td>1.0</td>\n      <td>134.0</td>\n      <td>96.0</td>\n      <td>...</td>\n      <td>63.0</td>\n      <td>16.1</td>\n      <td>1.0</td>\n      <td>1.1</td>\n      <td>30.0</td>\n      <td>23.0</td>\n      <td>53.0</td>\n      <td>2.0</td>\n      <td>1.0</td>\n      <td>27.3</td>\n    </tr>\n  </tbody>\n</table>\n<p>1165886 rows × 24 columns</p>\n</div>"
     },
     "metadata": {},
     "execution_count": 20
    }
   ],
   "source": [
    "df.loc[df['식전혈당(공복혈당)'] < 126, '식전혈당(공복혈당)'] = 0\n",
    "df.loc[df['식전혈당(공복혈당)'] >= 126, '식전혈당(공복혈당)'] = 1\n",
    "\n",
    "df.to_csv(f'{preprocessed_path}/7_label_blood_sugar.csv', index=False)\n",
    "df"
   ]
  },
  {
   "cell_type": "code",
   "execution_count": 21,
   "metadata": {},
   "outputs": [
    {
     "output_type": "execute_result",
     "data": {
      "text/plain": [
       "   성별코드  연령대코드(5세단위)  시도코드  신장(5Cm단위)  체중(5Kg단위)  허리둘레  시력(좌)  시력(우)  수축기혈압  \\\n",
       "0     1            8    43        170         75  90.0    1.0    1.0  120.0   \n",
       "1     1            7    11        180         80  89.0    0.9    1.2  130.0   \n",
       "2     1            9    41        165         75  91.0    1.2    1.5  120.0   \n",
       "\n",
       "   이완기혈압  ...  LDL콜레스테롤   혈색소  요단백  혈청크레아티닌  (혈청지오티)AST  (혈청지오티)ALT  감마지티피  \\\n",
       "0   80.0  ...     126.0  17.1  1.0      1.0        21.0        35.0   40.0   \n",
       "1   82.0  ...     148.0  15.8  1.0      0.9        20.0        36.0   27.0   \n",
       "2   70.0  ...      74.0  15.8  1.0      0.9        47.0        32.0   68.0   \n",
       "\n",
       "   흡연상태  음주여부   BMI  \n",
       "0   1.0   1.0  26.0  \n",
       "1   3.0   0.0  24.7  \n",
       "2   1.0   0.0  27.5  \n",
       "\n",
       "[3 rows x 24 columns]"
      ],
      "text/html": "<div>\n<style scoped>\n    .dataframe tbody tr th:only-of-type {\n        vertical-align: middle;\n    }\n\n    .dataframe tbody tr th {\n        vertical-align: top;\n    }\n\n    .dataframe thead th {\n        text-align: right;\n    }\n</style>\n<table border=\"1\" class=\"dataframe\">\n  <thead>\n    <tr style=\"text-align: right;\">\n      <th></th>\n      <th>성별코드</th>\n      <th>연령대코드(5세단위)</th>\n      <th>시도코드</th>\n      <th>신장(5Cm단위)</th>\n      <th>체중(5Kg단위)</th>\n      <th>허리둘레</th>\n      <th>시력(좌)</th>\n      <th>시력(우)</th>\n      <th>수축기혈압</th>\n      <th>이완기혈압</th>\n      <th>...</th>\n      <th>LDL콜레스테롤</th>\n      <th>혈색소</th>\n      <th>요단백</th>\n      <th>혈청크레아티닌</th>\n      <th>(혈청지오티)AST</th>\n      <th>(혈청지오티)ALT</th>\n      <th>감마지티피</th>\n      <th>흡연상태</th>\n      <th>음주여부</th>\n      <th>BMI</th>\n    </tr>\n  </thead>\n  <tbody>\n    <tr>\n      <th>0</th>\n      <td>1</td>\n      <td>8</td>\n      <td>43</td>\n      <td>170</td>\n      <td>75</td>\n      <td>90.0</td>\n      <td>1.0</td>\n      <td>1.0</td>\n      <td>120.0</td>\n      <td>80.0</td>\n      <td>...</td>\n      <td>126.0</td>\n      <td>17.1</td>\n      <td>1.0</td>\n      <td>1.0</td>\n      <td>21.0</td>\n      <td>35.0</td>\n      <td>40.0</td>\n      <td>1.0</td>\n      <td>1.0</td>\n      <td>26.0</td>\n    </tr>\n    <tr>\n      <th>1</th>\n      <td>1</td>\n      <td>7</td>\n      <td>11</td>\n      <td>180</td>\n      <td>80</td>\n      <td>89.0</td>\n      <td>0.9</td>\n      <td>1.2</td>\n      <td>130.0</td>\n      <td>82.0</td>\n      <td>...</td>\n      <td>148.0</td>\n      <td>15.8</td>\n      <td>1.0</td>\n      <td>0.9</td>\n      <td>20.0</td>\n      <td>36.0</td>\n      <td>27.0</td>\n      <td>3.0</td>\n      <td>0.0</td>\n      <td>24.7</td>\n    </tr>\n    <tr>\n      <th>2</th>\n      <td>1</td>\n      <td>9</td>\n      <td>41</td>\n      <td>165</td>\n      <td>75</td>\n      <td>91.0</td>\n      <td>1.2</td>\n      <td>1.5</td>\n      <td>120.0</td>\n      <td>70.0</td>\n      <td>...</td>\n      <td>74.0</td>\n      <td>15.8</td>\n      <td>1.0</td>\n      <td>0.9</td>\n      <td>47.0</td>\n      <td>32.0</td>\n      <td>68.0</td>\n      <td>1.0</td>\n      <td>0.0</td>\n      <td>27.5</td>\n    </tr>\n  </tbody>\n</table>\n<p>3 rows × 24 columns</p>\n</div>"
     },
     "metadata": {},
     "execution_count": 21
    }
   ],
   "source": [
    "df.head(3)"
   ]
  },
  {
   "cell_type": "code",
   "execution_count": null,
   "metadata": {},
   "outputs": [],
   "source": []
  }
 ]
}