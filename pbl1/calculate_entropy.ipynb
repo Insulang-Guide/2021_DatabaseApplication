{
 "metadata": {
  "language_info": {
   "codemirror_mode": {
    "name": "ipython",
    "version": 3
   },
   "file_extension": ".py",
   "mimetype": "text/x-python",
   "name": "python",
   "nbconvert_exporter": "python",
   "pygments_lexer": "ipython3",
   "version": "3.8.5-final"
  },
  "orig_nbformat": 2,
  "kernelspec": {
   "name": "python3",
   "display_name": "Python 3",
   "language": "python"
  }
 },
 "nbformat": 4,
 "nbformat_minor": 2,
 "cells": [
  {
   "cell_type": "code",
   "execution_count": 2,
   "metadata": {},
   "outputs": [],
   "source": [
    "import matplotlib.pyplot as plt\n",
    "import pandas as pd\n",
    "from scipy.stats import entropy"
   ]
  },
  {
   "source": [
    "# Data preparation"
   ],
   "cell_type": "markdown",
   "metadata": {}
  },
  {
   "cell_type": "code",
   "execution_count": 3,
   "metadata": {},
   "outputs": [
    {
     "output_type": "execute_result",
     "data": {
      "text/plain": [
       "         성별코드  연령대코드(5세단위)  시도코드  신장(5Cm단위)  체중(5Kg단위)  허리둘레  시력(좌)  시력(우)  \\\n",
       "0           1            8    43        170         75  90.0    1.0    1.0   \n",
       "1           1            7    11        180         80  89.0    0.9    1.2   \n",
       "2           1            9    41        165         75  91.0    1.2    1.5   \n",
       "3           1           11    48        175         80  91.0    1.5    1.2   \n",
       "4           1           11    30        165         60  80.0    1.0    1.2   \n",
       "...       ...          ...   ...        ...        ...   ...    ...    ...   \n",
       "1165763     2            9    11        170         55  72.0    0.9    0.8   \n",
       "1165764     1           13    43        165         65  84.0    0.9    1.2   \n",
       "1165765     1            8    31        180         65  77.0    1.2    1.2   \n",
       "1165766     1           13    11        155         60  87.0    1.0    1.0   \n",
       "1165767     1           13    45        160         70  88.5    1.2    1.0   \n",
       "\n",
       "         수축기혈압  이완기혈압  ...  LDL콜레스테롤   혈색소  요단백  혈청크레아티닌  (혈청지오티)AST  \\\n",
       "0        120.0   80.0  ...     126.0  17.1  1.0      1.0        21.0   \n",
       "1        130.0   82.0  ...     148.0  15.8  1.0      0.9        20.0   \n",
       "2        120.0   70.0  ...      74.0  15.8  1.0      0.9        47.0   \n",
       "3        145.0   87.0  ...     104.0  17.6  1.0      1.1        29.0   \n",
       "4        138.0   82.0  ...     117.0  13.8  1.0      0.8        19.0   \n",
       "...        ...    ...  ...       ...   ...  ...      ...         ...   \n",
       "1165763  112.0   73.0  ...     155.0  13.2  1.0      0.9        14.0   \n",
       "1165764  160.0   90.0  ...     140.0  15.2  1.0      1.0        34.0   \n",
       "1165765  123.0   89.0  ...      60.0  15.9  1.0      1.0        11.0   \n",
       "1165766  129.0   70.0  ...     181.0  16.4  1.0      1.3        65.0   \n",
       "1165767  134.0   96.0  ...      63.0  16.1  1.0      1.1        30.0   \n",
       "\n",
       "         (혈청지오티)ALT  감마지티피  흡연상태  음주여부   BMI  \n",
       "0              35.0   40.0   1.0   1.0  26.0  \n",
       "1              36.0   27.0   3.0   0.0  24.7  \n",
       "2              32.0   68.0   1.0   0.0  27.5  \n",
       "3              34.0   18.0   1.0   0.0  26.1  \n",
       "4              12.0   25.0   1.0   0.0  22.0  \n",
       "...             ...    ...   ...   ...   ...  \n",
       "1165763        11.0   26.0   3.0   1.0  19.0  \n",
       "1165764        12.0   78.0   1.0   1.0  23.9  \n",
       "1165765         8.0   15.0   3.0   1.0  20.1  \n",
       "1165766       127.0   64.0   3.0   1.0  25.0  \n",
       "1165767        23.0   53.0   2.0   1.0  27.3  \n",
       "\n",
       "[1165768 rows x 24 columns]"
      ],
      "text/html": "<div>\n<style scoped>\n    .dataframe tbody tr th:only-of-type {\n        vertical-align: middle;\n    }\n\n    .dataframe tbody tr th {\n        vertical-align: top;\n    }\n\n    .dataframe thead th {\n        text-align: right;\n    }\n</style>\n<table border=\"1\" class=\"dataframe\">\n  <thead>\n    <tr style=\"text-align: right;\">\n      <th></th>\n      <th>성별코드</th>\n      <th>연령대코드(5세단위)</th>\n      <th>시도코드</th>\n      <th>신장(5Cm단위)</th>\n      <th>체중(5Kg단위)</th>\n      <th>허리둘레</th>\n      <th>시력(좌)</th>\n      <th>시력(우)</th>\n      <th>수축기혈압</th>\n      <th>이완기혈압</th>\n      <th>...</th>\n      <th>LDL콜레스테롤</th>\n      <th>혈색소</th>\n      <th>요단백</th>\n      <th>혈청크레아티닌</th>\n      <th>(혈청지오티)AST</th>\n      <th>(혈청지오티)ALT</th>\n      <th>감마지티피</th>\n      <th>흡연상태</th>\n      <th>음주여부</th>\n      <th>BMI</th>\n    </tr>\n  </thead>\n  <tbody>\n    <tr>\n      <th>0</th>\n      <td>1</td>\n      <td>8</td>\n      <td>43</td>\n      <td>170</td>\n      <td>75</td>\n      <td>90.0</td>\n      <td>1.0</td>\n      <td>1.0</td>\n      <td>120.0</td>\n      <td>80.0</td>\n      <td>...</td>\n      <td>126.0</td>\n      <td>17.1</td>\n      <td>1.0</td>\n      <td>1.0</td>\n      <td>21.0</td>\n      <td>35.0</td>\n      <td>40.0</td>\n      <td>1.0</td>\n      <td>1.0</td>\n      <td>26.0</td>\n    </tr>\n    <tr>\n      <th>1</th>\n      <td>1</td>\n      <td>7</td>\n      <td>11</td>\n      <td>180</td>\n      <td>80</td>\n      <td>89.0</td>\n      <td>0.9</td>\n      <td>1.2</td>\n      <td>130.0</td>\n      <td>82.0</td>\n      <td>...</td>\n      <td>148.0</td>\n      <td>15.8</td>\n      <td>1.0</td>\n      <td>0.9</td>\n      <td>20.0</td>\n      <td>36.0</td>\n      <td>27.0</td>\n      <td>3.0</td>\n      <td>0.0</td>\n      <td>24.7</td>\n    </tr>\n    <tr>\n      <th>2</th>\n      <td>1</td>\n      <td>9</td>\n      <td>41</td>\n      <td>165</td>\n      <td>75</td>\n      <td>91.0</td>\n      <td>1.2</td>\n      <td>1.5</td>\n      <td>120.0</td>\n      <td>70.0</td>\n      <td>...</td>\n      <td>74.0</td>\n      <td>15.8</td>\n      <td>1.0</td>\n      <td>0.9</td>\n      <td>47.0</td>\n      <td>32.0</td>\n      <td>68.0</td>\n      <td>1.0</td>\n      <td>0.0</td>\n      <td>27.5</td>\n    </tr>\n    <tr>\n      <th>3</th>\n      <td>1</td>\n      <td>11</td>\n      <td>48</td>\n      <td>175</td>\n      <td>80</td>\n      <td>91.0</td>\n      <td>1.5</td>\n      <td>1.2</td>\n      <td>145.0</td>\n      <td>87.0</td>\n      <td>...</td>\n      <td>104.0</td>\n      <td>17.6</td>\n      <td>1.0</td>\n      <td>1.1</td>\n      <td>29.0</td>\n      <td>34.0</td>\n      <td>18.0</td>\n      <td>1.0</td>\n      <td>0.0</td>\n      <td>26.1</td>\n    </tr>\n    <tr>\n      <th>4</th>\n      <td>1</td>\n      <td>11</td>\n      <td>30</td>\n      <td>165</td>\n      <td>60</td>\n      <td>80.0</td>\n      <td>1.0</td>\n      <td>1.2</td>\n      <td>138.0</td>\n      <td>82.0</td>\n      <td>...</td>\n      <td>117.0</td>\n      <td>13.8</td>\n      <td>1.0</td>\n      <td>0.8</td>\n      <td>19.0</td>\n      <td>12.0</td>\n      <td>25.0</td>\n      <td>1.0</td>\n      <td>0.0</td>\n      <td>22.0</td>\n    </tr>\n    <tr>\n      <th>...</th>\n      <td>...</td>\n      <td>...</td>\n      <td>...</td>\n      <td>...</td>\n      <td>...</td>\n      <td>...</td>\n      <td>...</td>\n      <td>...</td>\n      <td>...</td>\n      <td>...</td>\n      <td>...</td>\n      <td>...</td>\n      <td>...</td>\n      <td>...</td>\n      <td>...</td>\n      <td>...</td>\n      <td>...</td>\n      <td>...</td>\n      <td>...</td>\n      <td>...</td>\n      <td>...</td>\n    </tr>\n    <tr>\n      <th>1165763</th>\n      <td>2</td>\n      <td>9</td>\n      <td>11</td>\n      <td>170</td>\n      <td>55</td>\n      <td>72.0</td>\n      <td>0.9</td>\n      <td>0.8</td>\n      <td>112.0</td>\n      <td>73.0</td>\n      <td>...</td>\n      <td>155.0</td>\n      <td>13.2</td>\n      <td>1.0</td>\n      <td>0.9</td>\n      <td>14.0</td>\n      <td>11.0</td>\n      <td>26.0</td>\n      <td>3.0</td>\n      <td>1.0</td>\n      <td>19.0</td>\n    </tr>\n    <tr>\n      <th>1165764</th>\n      <td>1</td>\n      <td>13</td>\n      <td>43</td>\n      <td>165</td>\n      <td>65</td>\n      <td>84.0</td>\n      <td>0.9</td>\n      <td>1.2</td>\n      <td>160.0</td>\n      <td>90.0</td>\n      <td>...</td>\n      <td>140.0</td>\n      <td>15.2</td>\n      <td>1.0</td>\n      <td>1.0</td>\n      <td>34.0</td>\n      <td>12.0</td>\n      <td>78.0</td>\n      <td>1.0</td>\n      <td>1.0</td>\n      <td>23.9</td>\n    </tr>\n    <tr>\n      <th>1165765</th>\n      <td>1</td>\n      <td>8</td>\n      <td>31</td>\n      <td>180</td>\n      <td>65</td>\n      <td>77.0</td>\n      <td>1.2</td>\n      <td>1.2</td>\n      <td>123.0</td>\n      <td>89.0</td>\n      <td>...</td>\n      <td>60.0</td>\n      <td>15.9</td>\n      <td>1.0</td>\n      <td>1.0</td>\n      <td>11.0</td>\n      <td>8.0</td>\n      <td>15.0</td>\n      <td>3.0</td>\n      <td>1.0</td>\n      <td>20.1</td>\n    </tr>\n    <tr>\n      <th>1165766</th>\n      <td>1</td>\n      <td>13</td>\n      <td>11</td>\n      <td>155</td>\n      <td>60</td>\n      <td>87.0</td>\n      <td>1.0</td>\n      <td>1.0</td>\n      <td>129.0</td>\n      <td>70.0</td>\n      <td>...</td>\n      <td>181.0</td>\n      <td>16.4</td>\n      <td>1.0</td>\n      <td>1.3</td>\n      <td>65.0</td>\n      <td>127.0</td>\n      <td>64.0</td>\n      <td>3.0</td>\n      <td>1.0</td>\n      <td>25.0</td>\n    </tr>\n    <tr>\n      <th>1165767</th>\n      <td>1</td>\n      <td>13</td>\n      <td>45</td>\n      <td>160</td>\n      <td>70</td>\n      <td>88.5</td>\n      <td>1.2</td>\n      <td>1.0</td>\n      <td>134.0</td>\n      <td>96.0</td>\n      <td>...</td>\n      <td>63.0</td>\n      <td>16.1</td>\n      <td>1.0</td>\n      <td>1.1</td>\n      <td>30.0</td>\n      <td>23.0</td>\n      <td>53.0</td>\n      <td>2.0</td>\n      <td>1.0</td>\n      <td>27.3</td>\n    </tr>\n  </tbody>\n</table>\n<p>1165768 rows × 24 columns</p>\n</div>"
     },
     "metadata": {},
     "execution_count": 3
    }
   ],
   "source": [
    "df = pd.read_csv('../csv/preprocessed/7_label_blood_sugar.csv')\n",
    "df"
   ]
  },
  {
   "source": [
    "# Calculate entropy"
   ],
   "cell_type": "markdown",
   "metadata": {}
  },
  {
   "cell_type": "code",
   "execution_count": 4,
   "metadata": {},
   "outputs": [],
   "source": [
    "def calc_entropy(df):\n",
    "    features = list(df.columns)\n",
    "    features.remove('식전혈당(공복혈당)')\n",
    "\n",
    "    total = len(df)\n",
    "\n",
    "    result = []\n",
    "    for feature in features:\n",
    "        result.append([feature, entropy(df[[feature, '식전혈당(공복혈당)']].value_counts() / total, base = 2)])\n",
    "    \n",
    "    result.sort(key=lambda x: x[1], reverse = True)\n",
    "\n",
    "    result_df = pd.DataFrame(result, columns=['feature', 'entropy'])\n",
    "\n",
    "    print('Total data count is ', total)\n",
    "    print('Init entropy is ', entropy(df['식전혈당(공복혈당)'].value_counts() / total, base = 2))\n",
    "\n",
    "    plt.bar(result_df['feature'], result_df['entropy'])\n",
    "    plt.show()"
   ]
  },
  {
   "cell_type": "code",
   "execution_count": null,
   "metadata": {},
   "outputs": [],
   "source": [
    "calc_entropy(df)"
   ]
  }
 ]
}