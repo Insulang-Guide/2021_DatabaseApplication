{
 "metadata": {
  "language_info": {
   "codemirror_mode": {
    "name": "ipython",
    "version": 3
   },
   "file_extension": ".py",
   "mimetype": "text/x-python",
   "name": "python",
   "nbconvert_exporter": "python",
   "pygments_lexer": "ipython3",
   "version": "3.8.5-final"
  },
  "orig_nbformat": 2,
  "kernelspec": {
   "name": "python385jvsc74a57bd031f2aee4e71d21fbe5cf8b01ff0e069b9275f58929596ceb00d14d90e3e16cd6",
   "display_name": "Python 3.8.5 64-bit"
  },
  "metadata": {
   "interpreter": {
    "hash": "31f2aee4e71d21fbe5cf8b01ff0e069b9275f58929596ceb00d14d90e3e16cd6"
   }
  }
 },
 "nbformat": 4,
 "nbformat_minor": 2,
 "cells": [
  {
   "cell_type": "code",
   "execution_count": 1,
   "metadata": {},
   "outputs": [],
   "source": [
    "import pandas as pd\n",
    "import matplotlib.pyplot as plt\n",
    "from sklearn.ensemble import RandomForestClassifier, GradientBoostingClassifier\n",
    "from sklearn.feature_selection import SelectFromModel\n",
    "from sklearn.linear_model import LogisticRegression\n",
    "from sklearn.tree import DecisionTreeClassifier"
   ]
  },
  {
   "cell_type": "code",
   "execution_count": 40,
   "metadata": {},
   "outputs": [],
   "source": [
    "df = pd.read_csv('../csv/preprocessed/7_label_blood_sugar.csv')"
   ]
  },
  {
   "cell_type": "code",
   "execution_count": null,
   "metadata": {},
   "outputs": [],
   "source": [
    "target = df.pop('식전혈당(공복혈당)')\n",
    "\n",
    "x = df.values\n",
    "y = target.values.reshape(-1, 1)"
   ]
  },
  {
   "cell_type": "code",
   "execution_count": 41,
   "metadata": {},
   "outputs": [
    {
     "output_type": "execute_result",
     "data": {
      "text/plain": [
       "Index(['성별코드', '연령대코드(5세단위)', '시도코드', '신장(5Cm단위)', '체중(5Kg단위)', '허리둘레',\n",
       "       '시력(좌)', '시력(우)', '수축기혈압', '이완기혈압', '총콜레스테롤', '트리글리세라이드', 'HDL콜레스테롤',\n",
       "       'LDL콜레스테롤', '혈색소', '요단백', '혈청크레아티닌', '(혈청지오티)AST', '(혈청지오티)ALT',\n",
       "       '감마지티피', '흡연상태', '음주여부', 'BMI'],\n",
       "      dtype='object')"
      ]
     },
     "metadata": {},
     "execution_count": 41
    }
   ],
   "source": [
    "columns = df.columns\n",
    "columns"
   ]
  },
  {
   "cell_type": "code",
   "execution_count": null,
   "metadata": {},
   "outputs": [],
   "source": [
    "def get_feature_selection_result(selector, importances):\n",
    "    result = []\n",
    "    is_selected = selector.get_support()\n",
    "\n",
    "    for idx in range(len(columns)):\n",
    "        selected = True if is_selected[idx] == 1 else False\n",
    "        result.append([columns[idx], importances[idx], selected])\n",
    "    result.sort(key=lambda x: abs(x[1]), reverse=True)\n",
    "\n",
    "    df_to_print = pd.DataFrame(result, columns=['column', 'importance', 'selected'])\n",
    "    return df_to_print"
   ]
  },
  {
   "cell_type": "code",
   "execution_count": null,
   "metadata": {},
   "outputs": [],
   "source": [
    "def result_to_plot(model, result):\n",
    "    base_line = 1.0 / 23\n",
    "    colors = []\n",
    "    for value in result['importance']:\n",
    "        colors.append('blue' if value < base_line else 'grey')\n",
    "\n",
    "    plt.bar(result['feature'], result['importance'], color=colors)\n",
    "    plt.axhline(y=base_line, color='r', linestyle='-')\n",
    "\n",
    "    plt.title('Feature Selection with %s' %(model))\n",
    "    plt.ylabel('Importance')\n",
    "    plt.xlabel('Feature')\n",
    "    plt.show()"
   ]
  },
  {
   "source": [
    "# RandomForestClassifier"
   ],
   "cell_type": "markdown",
   "metadata": {}
  },
  {
   "cell_type": "code",
   "execution_count": 43,
   "metadata": {},
   "outputs": [
    {
     "output_type": "stream",
     "name": "stderr",
     "text": [
      "/home/seonghoon/.local/lib/python3.8/site-packages/sklearn/feature_selection/_from_model.py:234: DataConversionWarning: A column-vector y was passed when a 1d array was expected. Please change the shape of y to (n_samples,), for example using ravel().\n  self.estimator_.fit(X, y, **fit_params)\n"
     ]
    }
   ],
   "source": [
    "selector_RFC = SelectFromModel(estimator=RandomForestClassifier()).fit(x, y)\n"
   ]
  },
  {
   "cell_type": "code",
   "execution_count": 44,
   "metadata": {},
   "outputs": [
    {
     "output_type": "execute_result",
     "data": {
      "text/plain": [
       "Index(['연령대코드(5세단위)', '허리둘레', '수축기혈압', '이완기혈압', '총콜레스테롤', '트리글리세라이드',\n",
       "       'HDL콜레스테롤', 'LDL콜레스테롤', '혈색소', '(혈청지오티)AST', '(혈청지오티)ALT', '감마지티피',\n",
       "       'BMI'],\n",
       "      dtype='object')"
      ]
     },
     "metadata": {},
     "execution_count": 44
    }
   ],
   "source": [
    "selected_RFC = columns[selector_RFC.get_support()]\n",
    "selected_RFC"
   ]
  },
  {
   "cell_type": "code",
   "execution_count": null,
   "metadata": {},
   "outputs": [],
   "source": [
    "result_RFC = get_feature_selection_result(selector_RFC, selector_RFC.estimator_.feature_importances_)\n",
    "result_RFC"
   ]
  },
  {
   "cell_type": "code",
   "execution_count": null,
   "metadata": {},
   "outputs": [],
   "source": [
    "result_to_plot('Random Forest Classifier', result_RFC)"
   ]
  },
  {
   "source": [
    "# GradientBoostingClassifier"
   ],
   "cell_type": "markdown",
   "metadata": {}
  },
  {
   "cell_type": "code",
   "execution_count": 45,
   "metadata": {},
   "outputs": [
    {
     "output_type": "stream",
     "name": "stderr",
     "text": [
      "/home/seonghoon/.local/lib/python3.8/site-packages/sklearn/utils/validation.py:63: DataConversionWarning: A column-vector y was passed when a 1d array was expected. Please change the shape of y to (n_samples, ), for example using ravel().\n  return f(*args, **kwargs)\n"
     ]
    }
   ],
   "source": [
    "selector_GBC = SelectFromModel(estimator=GradientBoostingClassifier()).fit(x, y)"
   ]
  },
  {
   "cell_type": "code",
   "execution_count": 46,
   "metadata": {},
   "outputs": [
    {
     "output_type": "execute_result",
     "data": {
      "text/plain": [
       "Index(['연령대코드(5세단위)', '허리둘레', '총콜레스테롤', '트리글리세라이드', 'LDL콜레스테롤', '요단백',\n",
       "       '(혈청지오티)AST', '감마지티피'],\n",
       "      dtype='object')"
      ]
     },
     "metadata": {},
     "execution_count": 46
    }
   ],
   "source": [
    "selected_GBC = columns[selector_GBC.get_support()]\n",
    "selected_GBC"
   ]
  },
  {
   "cell_type": "code",
   "execution_count": null,
   "metadata": {},
   "outputs": [],
   "source": [
    "result_GBC = get_feature_selection_result(selector_GBC, selector_GBC.estimator_.feature_importances_)\n",
    "result_GBC"
   ]
  },
  {
   "cell_type": "code",
   "execution_count": null,
   "metadata": {},
   "outputs": [],
   "source": [
    "result_to_plot('Gradient Boosting Classifier', result_GBC)"
   ]
  },
  {
   "source": [
    "# LogisticRegression"
   ],
   "cell_type": "markdown",
   "metadata": {}
  },
  {
   "cell_type": "code",
   "execution_count": 47,
   "metadata": {},
   "outputs": [
    {
     "output_type": "stream",
     "name": "stderr",
     "text": [
      "/home/seonghoon/.local/lib/python3.8/site-packages/sklearn/utils/validation.py:63: DataConversionWarning: A column-vector y was passed when a 1d array was expected. Please change the shape of y to (n_samples, ), for example using ravel().\n",
      "  return f(*args, **kwargs)\n",
      "/home/seonghoon/.local/lib/python3.8/site-packages/sklearn/linear_model/_logistic.py:763: ConvergenceWarning: lbfgs failed to converge (status=1):\n",
      "STOP: TOTAL NO. of ITERATIONS REACHED LIMIT.\n",
      "\n",
      "Increase the number of iterations (max_iter) or scale the data as shown in:\n",
      "    https://scikit-learn.org/stable/modules/preprocessing.html\n",
      "Please also refer to the documentation for alternative solver options:\n",
      "    https://scikit-learn.org/stable/modules/linear_model.html#logistic-regression\n",
      "  n_iter_i = _check_optimize_result(\n"
     ]
    }
   ],
   "source": [
    "selector_LR = SelectFromModel(estimator=LogisticRegression()).fit(x, y)"
   ]
  },
  {
   "cell_type": "code",
   "execution_count": 48,
   "metadata": {},
   "outputs": [
    {
     "output_type": "execute_result",
     "data": {
      "text/plain": [
       "Index(['성별코드', '연령대코드(5세단위)', '신장(5Cm단위)', '체중(5Kg단위)', '혈색소', '요단백', '흡연상태',\n",
       "       'BMI'],\n",
       "      dtype='object')"
      ]
     },
     "metadata": {},
     "execution_count": 48
    }
   ],
   "source": [
    "selected_LR = columns[selector_LR.get_support()]\n",
    "selected_LR"
   ]
  },
  {
   "cell_type": "code",
   "execution_count": null,
   "metadata": {},
   "outputs": [],
   "source": [
    "result_LR = get_feature_selection_result(selector_LR, selector_FR.estimator_.coef_[0])\n",
    "result_LR"
   ]
  },
  {
   "cell_type": "code",
   "execution_count": null,
   "metadata": {},
   "outputs": [],
   "source": [
    "result_to_plot('Logistic Regression', result_LR)"
   ]
  },
  {
   "source": [
    "# DecisionTreeClassifier"
   ],
   "cell_type": "markdown",
   "metadata": {}
  },
  {
   "cell_type": "code",
   "execution_count": 49,
   "metadata": {},
   "outputs": [],
   "source": [
    "selector_DTC = SelectFromModel(estimator=DecisionTreeClassifier()).fit(x, y)"
   ]
  },
  {
   "cell_type": "code",
   "execution_count": 50,
   "metadata": {},
   "outputs": [
    {
     "output_type": "execute_result",
     "data": {
      "text/plain": [
       "Index(['연령대코드(5세단위)', '허리둘레', '수축기혈압', '이완기혈압', '총콜레스테롤', '트리글리세라이드',\n",
       "       'HDL콜레스테롤', 'LDL콜레스테롤', '혈색소', '(혈청지오티)AST', '(혈청지오티)ALT', '감마지티피',\n",
       "       'BMI'],\n",
       "      dtype='object')"
      ]
     },
     "metadata": {},
     "execution_count": 50
    }
   ],
   "source": [
    "selected_DTC = columns[selector_DTC.get_support()]\n",
    "selected_DTC"
   ]
  },
  {
   "cell_type": "code",
   "execution_count": 88,
   "metadata": {},
   "outputs": [
    {
     "output_type": "execute_result",
     "data": {
      "text/plain": [
       "         column  importance  selected\n",
       "0      트리글리세라이드    0.073994      True\n",
       "1         감마지티피    0.072730      True\n",
       "2      LDL콜레스테롤    0.072346      True\n",
       "3           혈색소    0.062942      True\n",
       "4          허리둘레    0.061283      True\n",
       "5        총콜레스테롤    0.057970      True\n",
       "6    (혈청지오티)ALT    0.057186      True\n",
       "7      HDL콜레스테롤    0.056546      True\n",
       "8    (혈청지오티)AST    0.055988      True\n",
       "9         수축기혈압    0.054277      True\n",
       "10        이완기혈압    0.050762      True\n",
       "11          BMI    0.045676      True\n",
       "12  연령대코드(5세단위)    0.045529      True\n",
       "13         시도코드    0.038450     False\n",
       "14      혈청크레아티닌    0.037992     False\n",
       "15        시력(좌)    0.035386     False\n",
       "16        시력(우)    0.034466     False\n",
       "17    신장(5Cm단위)    0.026305     False\n",
       "18    체중(5Kg단위)    0.022590     False\n",
       "19          요단백    0.013852     False\n",
       "20         흡연상태    0.012630     False\n",
       "21         음주여부    0.007357     False\n",
       "22         성별코드    0.003744     False"
      ],
      "text/html": "<div>\n<style scoped>\n    .dataframe tbody tr th:only-of-type {\n        vertical-align: middle;\n    }\n\n    .dataframe tbody tr th {\n        vertical-align: top;\n    }\n\n    .dataframe thead th {\n        text-align: right;\n    }\n</style>\n<table border=\"1\" class=\"dataframe\">\n  <thead>\n    <tr style=\"text-align: right;\">\n      <th></th>\n      <th>column</th>\n      <th>importance</th>\n      <th>selected</th>\n    </tr>\n  </thead>\n  <tbody>\n    <tr>\n      <th>0</th>\n      <td>트리글리세라이드</td>\n      <td>0.073994</td>\n      <td>True</td>\n    </tr>\n    <tr>\n      <th>1</th>\n      <td>감마지티피</td>\n      <td>0.072730</td>\n      <td>True</td>\n    </tr>\n    <tr>\n      <th>2</th>\n      <td>LDL콜레스테롤</td>\n      <td>0.072346</td>\n      <td>True</td>\n    </tr>\n    <tr>\n      <th>3</th>\n      <td>혈색소</td>\n      <td>0.062942</td>\n      <td>True</td>\n    </tr>\n    <tr>\n      <th>4</th>\n      <td>허리둘레</td>\n      <td>0.061283</td>\n      <td>True</td>\n    </tr>\n    <tr>\n      <th>5</th>\n      <td>총콜레스테롤</td>\n      <td>0.057970</td>\n      <td>True</td>\n    </tr>\n    <tr>\n      <th>6</th>\n      <td>(혈청지오티)ALT</td>\n      <td>0.057186</td>\n      <td>True</td>\n    </tr>\n    <tr>\n      <th>7</th>\n      <td>HDL콜레스테롤</td>\n      <td>0.056546</td>\n      <td>True</td>\n    </tr>\n    <tr>\n      <th>8</th>\n      <td>(혈청지오티)AST</td>\n      <td>0.055988</td>\n      <td>True</td>\n    </tr>\n    <tr>\n      <th>9</th>\n      <td>수축기혈압</td>\n      <td>0.054277</td>\n      <td>True</td>\n    </tr>\n    <tr>\n      <th>10</th>\n      <td>이완기혈압</td>\n      <td>0.050762</td>\n      <td>True</td>\n    </tr>\n    <tr>\n      <th>11</th>\n      <td>BMI</td>\n      <td>0.045676</td>\n      <td>True</td>\n    </tr>\n    <tr>\n      <th>12</th>\n      <td>연령대코드(5세단위)</td>\n      <td>0.045529</td>\n      <td>True</td>\n    </tr>\n    <tr>\n      <th>13</th>\n      <td>시도코드</td>\n      <td>0.038450</td>\n      <td>False</td>\n    </tr>\n    <tr>\n      <th>14</th>\n      <td>혈청크레아티닌</td>\n      <td>0.037992</td>\n      <td>False</td>\n    </tr>\n    <tr>\n      <th>15</th>\n      <td>시력(좌)</td>\n      <td>0.035386</td>\n      <td>False</td>\n    </tr>\n    <tr>\n      <th>16</th>\n      <td>시력(우)</td>\n      <td>0.034466</td>\n      <td>False</td>\n    </tr>\n    <tr>\n      <th>17</th>\n      <td>신장(5Cm단위)</td>\n      <td>0.026305</td>\n      <td>False</td>\n    </tr>\n    <tr>\n      <th>18</th>\n      <td>체중(5Kg단위)</td>\n      <td>0.022590</td>\n      <td>False</td>\n    </tr>\n    <tr>\n      <th>19</th>\n      <td>요단백</td>\n      <td>0.013852</td>\n      <td>False</td>\n    </tr>\n    <tr>\n      <th>20</th>\n      <td>흡연상태</td>\n      <td>0.012630</td>\n      <td>False</td>\n    </tr>\n    <tr>\n      <th>21</th>\n      <td>음주여부</td>\n      <td>0.007357</td>\n      <td>False</td>\n    </tr>\n    <tr>\n      <th>22</th>\n      <td>성별코드</td>\n      <td>0.003744</td>\n      <td>False</td>\n    </tr>\n  </tbody>\n</table>\n</div>"
     },
     "metadata": {},
     "execution_count": 88
    }
   ],
   "source": [
    "result_DTC = get_feature_selection_result(selector_DTC, selector_DTC.estimator_.feature_importances_)\n",
    "result_DTC"
   ]
  },
  {
   "cell_type": "code",
   "execution_count": null,
   "metadata": {},
   "outputs": [],
   "source": [
    "result_to_plot('Decision Tree Classifier', result_DTC)"
   ]
  },
  {
   "cell_type": "code",
   "execution_count": null,
   "metadata": {},
   "outputs": [],
   "source": []
  }
 ]
}